{
 "cells": [
  {
   "cell_type": "markdown",
   "metadata": {},
   "source": [
    "# setup"
   ]
  },
  {
   "cell_type": "code",
   "execution_count": 1,
   "metadata": {
    "collapsed": false
   },
   "outputs": [
    {
     "name": "stdout",
     "output_type": "stream",
     "text": [
      "Overwriting locate_file.py\n"
     ]
    }
   ],
   "source": [
    "%%file locate_file.py\n",
    "\n",
    "def locate_file() : \n",
    "    working_directory = ''\n",
    "    for element in __file__.split('/')[:-1] : \n",
    "        working_directory += element + '/'\n",
    "    return working_directory"
   ]
  },
  {
   "cell_type": "code",
   "execution_count": 2,
   "metadata": {
    "collapsed": false
   },
   "outputs": [],
   "source": [
    "import locate_file\n",
    "import os\n",
    "import matplotlib.pyplot as plt\n",
    "import matplotlib\n",
    "import numpy\n",
    "\n",
    "working_directory = locate_file.locate_file()\n",
    "os.chdir(working_directory)\n",
    "%matplotlib inline"
   ]
  },
  {
   "cell_type": "markdown",
   "metadata": {},
   "source": [
    "# convolution C function"
   ]
  },
  {
   "cell_type": "code",
   "execution_count": 3,
   "metadata": {
    "collapsed": false
   },
   "outputs": [
    {
     "name": "stdout",
     "output_type": "stream",
     "text": [
      "Overwriting convolution.c\n"
     ]
    }
   ],
   "source": [
    "%%file convolution.c\n",
    "#include<stdio.h>\n",
    "\n",
    "void convolution(int *image,int *kernel,int image_width, int image_height, int kernel_size, int kernel_normalizer) {\n",
    "    \n",
    "    int image_starting_x = 0;\n",
    "    int image_starting_y = 0;\n",
    "    int image_ending_x = image_width;\n",
    "    int image_ending_y = image_height;\n",
    "    \n",
    "    int i,j,u,v;\n",
    "    int sum;\n",
    "    j=0;\n",
    "    \n",
    "    for(i=image_starting_y;i<image_height-kernel_size;i++) {\n",
    "        for(j=image_starting_x;j<image_width-kernel_size;j++) {\n",
    "            \n",
    "            //current left top corner pixel is i,j\n",
    "            sum = 0;\n",
    "            for(u=0;u<kernel_size;u++) {\n",
    "                for(v=0;v<kernel_size;v++) {\n",
    "                    sum += (*(image + image_width*(i+u) + j+v))*(*(kernel + u*kernel_size + v));\n",
    "\n",
    "                }\n",
    "            }\n",
    "            *(image + (image_width*i) + j) = sum/kernel_normalizer;\n",
    "            \n",
    "        }\n",
    "    }\n",
    "}"
   ]
  },
  {
   "cell_type": "markdown",
   "metadata": {},
   "source": [
    "# compiling"
   ]
  },
  {
   "cell_type": "code",
   "execution_count": 4,
   "metadata": {
    "collapsed": false
   },
   "outputs": [
    {
     "name": "stdout",
     "output_type": "stream",
     "text": [
      "convolution.so: Mach-O 64-bit dynamically linked shared library x86_64\r\n"
     ]
    }
   ],
   "source": [
    "os.system('cd ' + working_directory)\n",
    "!clang -c convolution.c\n",
    "!clang -o convolution.so -shared convolution.o\n",
    "!file convolution.so"
   ]
  },
  {
   "cell_type": "markdown",
   "metadata": {},
   "source": [
    "# python wrapper script"
   ]
  },
  {
   "cell_type": "code",
   "execution_count": 5,
   "metadata": {
    "collapsed": false
   },
   "outputs": [
    {
     "name": "stdout",
     "output_type": "stream",
     "text": [
      "Overwriting libconvolution.py\n"
     ]
    }
   ],
   "source": [
    "%%file libconvolution.py\n",
    "import ctypes\n",
    "import locate_file\n",
    "import numpy\n",
    "\n",
    "working_directory = locate_file.locate_file()\n",
    "\n",
    "_convolution_ = ctypes.cdll.LoadLibrary(working_directory + 'convolution.so')\n",
    "\n",
    "class two_d_array() : \n",
    "    \n",
    "    def from_param(self,param) : \n",
    "        typename = type(param).__name__\n",
    "        if hasattr(self,'from_'+typename) : \n",
    "            return getattr(self,'from_'+typename)(param)\n",
    "        elif isinstance(param,ctypes.Array) : \n",
    "            \n",
    "            return param\n",
    "        else : \n",
    "            raise TypeError('type %s not supported' %typename)\n",
    "    \n",
    "    def from_ndarray(self,param) : \n",
    "        c_array = numpy.ascontiguousarray(param,dtype=numpy.uint32)\n",
    "        pointer = c_array.ctypes\n",
    "        return pointer\n",
    "    \n",
    "    def from_list(self,param) : \n",
    "        return self.from_ndarray(param)\n",
    "    \n",
    "    def from_tuple(self,param) : \n",
    "        return self.from_ndarray(param)\n",
    "    \n",
    "two_d_array_ = two_d_array()\n",
    "\n",
    "_convolution_.convolution.argtypes = [two_d_array_,two_d_array_,ctypes.c_int,ctypes.c_int,ctypes.c_int,ctypes.c_int]\n",
    "_convolution_.convolution.restype = ctypes.c_void_p\n",
    "\n",
    "def convolution(image,kernel,kernel_normalizer) : \n",
    "    '''\n",
    "    ADD BORDER TO IMAGE\n",
    "    '''\n",
    "    image_c_array = numpy.ascontiguousarray(image,dtype=numpy.uint32)\n",
    "    kernel_c_array = numpy.ascontiguousarray(kernel,dtype=numpy.uint32)\n",
    "    _convolution_.convolution(image_c_array,kernel_c_array,len(image[0]),len(image),len(kernel),kernel_normalizer)\n",
    "    '''\n",
    "    REMOVE BORDER FROM IMAGE\n",
    "    '''\n",
    "    return numpy.ascontiguousarray(image_c_array,dtype=numpy.uint8)"
   ]
  },
  {
   "cell_type": "code",
   "execution_count": 6,
   "metadata": {
    "collapsed": false
   },
   "outputs": [
    {
     "name": "stdout",
     "output_type": "stream",
     "text": [
      "Overwriting image_processing.py\n"
     ]
    }
   ],
   "source": [
    "%%file image_processing.py\n",
    "import numpy\n",
    "\n",
    "class image_processing() : \n",
    "    \n",
    "    def __init__(self) : \n",
    "        pass\n",
    "    \n",
    "    def convolution(self,image,kernel) : \n",
    "        \n",
    "        scaling_factor = kernel[0]\n",
    "        kernel = kernel[1]\n",
    "        image_width = len(image[0])\n",
    "        image_height = len(image)\n",
    "        kernel_width = len(kernel[0])\n",
    "        kernel_height = len(kernel)\n",
    "\n",
    "        return_image = []\n",
    "\n",
    "        def element_wise_matrix_multiplication(matrix1,matrix2,scaling_factor=1) :\n",
    "            return_value = 0\n",
    "            for m1_row,m2_row in zip(matrix1,matrix2) :\n",
    "                for m1_pixel,m2_pixel in zip(m1_row,m2_row) :\n",
    "                    return_value += int(m1_pixel)*int(m2_pixel)\n",
    "            return numpy.uint8(return_value/scaling_factor)\n",
    "                \n",
    "        for row in range(image_height - kernel_height + 1) :\n",
    "            return_image.append([])\n",
    "            for pixel in range(image_width - kernel_width + 1) :\n",
    "                image_slice = [[image[i,j] for j in range(pixel,pixel + kernel_width)]\\\n",
    "                               for i in range(row,row + kernel_height)]\n",
    "                #print(image_slice)\n",
    "                return_image[-1].append(element_wise_matrix_multiplication(image_slice,kernel,scaling_factor))\n",
    "        return numpy.array(return_image)\n",
    "    \n",
    "    def rgb_to_grayscale(self,image) : \n",
    "        return_image = []\n",
    "        for row in image : \n",
    "            return_image.append([])\n",
    "            for pixel in row : \n",
    "                try : \n",
    "                    [r,g,b,s] = pixel\n",
    "                except ValueError : \n",
    "                    [r,g,b] = pixel\n",
    "                return_image[-1].append(numpy.uint8((int(r)+int(g)+int(b))/3))\n",
    "        return numpy.array(return_image)\n",
    "    \n",
    "    def add_images(self,image1,image2) :\n",
    "        return_array = []\n",
    "        for row1,row2 in zip(image1,image2) : \n",
    "            return_array.append([])\n",
    "            for pixel1,pixel2 in zip(row1,row2) :\n",
    "                return_array[-1].append(numpy.uint8((int(pixel1))|(int(pixel2))))\n",
    "        return numpy.array(return_array)"
   ]
  },
  {
   "cell_type": "markdown",
   "metadata": {},
   "source": [
    "# decorator to time functions execution time"
   ]
  },
  {
   "cell_type": "code",
   "execution_count": 7,
   "metadata": {
    "collapsed": true
   },
   "outputs": [],
   "source": [
    "def time_this_function(function) : \n",
    "    try : \n",
    "        time\n",
    "    except : \n",
    "        import time\n",
    "    \n",
    "    def wrapper_function(*args,**kwargs) : \n",
    "        start_time = time.time()\n",
    "        return_value = function(*args,**kwargs)\n",
    "        elapsed_time = (time.time() - start_time)*1000\n",
    "        print(function.__name__ + ' -- elapsed_time -- ' + str(elapsed_time),end=' ms\\n')\n",
    "        return return_value\n",
    "    return wrapper_function"
   ]
  },
  {
   "cell_type": "markdown",
   "metadata": {},
   "source": [
    "# time to compare"
   ]
  },
  {
   "cell_type": "code",
   "execution_count": 8,
   "metadata": {
    "collapsed": false
   },
   "outputs": [],
   "source": [
    "import libconvolution\n",
    "import image_processing\n",
    "import numpy\n",
    "impr = image_processing.image_processing()"
   ]
  },
  {
   "cell_type": "code",
   "execution_count": 9,
   "metadata": {
    "collapsed": false
   },
   "outputs": [
    {
     "data": {
      "image/png": "[encoded data removed]",
      "text/plain": [
       "<matplotlib.figure.Figure at 0x103ec13c8>"
      ]
     },
     "metadata": {},
     "output_type": "display_data"
    }
   ],
   "source": [
    "image = plt.imread('sample_image_3.png')\n",
    "\n",
    "#converting image to (255 to 0) scale rather that (1.0 to 0.0) scale\n",
    "def convert_to_harmless_image(image) : \n",
    "    new_image = []\n",
    "    for row in image :\n",
    "        new_image.append([])\n",
    "        for pixel in row : \n",
    "            new_image[-1].append(numpy.uint8(pixel*255))\n",
    "    return new_image\n",
    "            \n",
    "image = impr.rgb_to_grayscale(convert_to_harmless_image(image))\n",
    "\n",
    "plt.imshow(image,cmap=matplotlib.pyplot.get_cmap('gray'))\n",
    "\n",
    "kernel = [273,[[1,4 ,7 ,4 ,1],\n",
    "                   [4,16,26,16,4],\n",
    "                   [7,26,41,26,7],\n",
    "                   [4,16,26,16,4],\n",
    "                   [1,4 ,7 ,4 ,1]]]\n",
    "\n",
    "# kernel = [9,[[1,1,1],[1,1,1],[1,1,1]]]\n",
    "\n",
    "kernel_normalizer = kernel[0]"
   ]
  },
  {
   "cell_type": "code",
   "execution_count": 19,
   "metadata": {
    "collapsed": false
   },
   "outputs": [
    {
     "name": "stdout",
     "output_type": "stream",
     "text": [
      "c_test -- elapsed_time -- 5.134105682373047 ms\n",
      "python_test -- elapsed_time -- 1150.5131721496582 ms\n"
     ]
    }
   ],
   "source": [
    "@time_this_function\n",
    "def c_test() : \n",
    "    c_image = libconvolution.convolution(image,kernel[1],kernel[0])\n",
    "    return c_image\n",
    "    \n",
    "@time_this_function\n",
    "def python_test() : \n",
    "    python_image = impr.convolution(image,kernel)\n",
    "    return python_image\n",
    "\n",
    "c_image = c_test()\n",
    "python_image = python_test()"
   ]
  },
  {
   "cell_type": "code",
   "execution_count": 20,
   "metadata": {
    "collapsed": false
   },
   "outputs": [
    {
     "data": {
      "text/plain": [
       "<matplotlib.image.AxesImage at 0x1062e5898>"
      ]
     },
     "execution_count": 20,
     "metadata": {},
     "output_type": "execute_result"
    },
    {
     "data": {
      "image/png": "[encoded data removed]",
      "text/plain": [
       "<matplotlib.figure.Figure at 0x105cf7898>"
      ]
     },
     "metadata": {},
     "output_type": "display_data"
    }
   ],
   "source": [
    "plt.imshow(c_image,cmap=matplotlib.pyplot.get_cmap('gray'))\n",
    "# plt.imshow(python_image,cmap=matplotlib.pyplot.get_cmap('gray'))"
   ]
  },
  {
   "cell_type": "code",
   "execution_count": null,
   "metadata": {
    "collapsed": true
   },
   "outputs": [],
   "source": []
  }
 ],
 "metadata": {
  "kernelspec": {
   "display_name": "Python 3",
   "language": "python",
   "name": "python3"
  },
  "language_info": {
   "codemirror_mode": {
    "name": "ipython",
    "version": 3
   },
   "file_extension": ".py",
   "mimetype": "text/x-python",
   "name": "python",
   "nbconvert_exporter": "python",
   "pygments_lexer": "ipython3",
   "version": "3.4.3"
  }
 },
 "nbformat": 4,
 "nbformat_minor": 0
}
