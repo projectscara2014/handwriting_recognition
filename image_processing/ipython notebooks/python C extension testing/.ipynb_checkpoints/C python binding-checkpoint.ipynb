{
 "cells": [
  {
   "cell_type": "code",
   "execution_count": 1,
   "metadata": {
    "collapsed": false
   },
   "outputs": [],
   "source": [
    "working_directory = '/users/ironstein/documents/projects working directory/handwriting recognition using neural networks on FPGA final year project/image processing/ipython notebooks/python C extension testing'\n",
    "\n",
    "import os\n",
    "import inspect\n",
    "from ctypes import *\n",
    "\n",
    "os.chdir(working_directory)"
   ]
  },
  {
   "cell_type": "markdown",
   "metadata": {},
   "source": [
    "###typing a C file into ipython and then saving it"
   ]
  },
  {
   "cell_type": "code",
   "execution_count": 2,
   "metadata": {
    "collapsed": false
   },
   "outputs": [
    {
     "name": "stdout",
     "output_type": "stream",
     "text": [
      "Overwriting helloworld.c\n"
     ]
    }
   ],
   "source": [
    "%%file helloworld.c\n",
    "\n",
    "#include <stdio.h>\n",
    "int i;\n",
    "int hello(int n) {\n",
    "    for(i=0;i<n;i++) {\n",
    "        printf(\"C says hello world!\\n\");\n",
    "    }\n",
    "    return(235);\n",
    "}"
   ]
  },
  {
   "cell_type": "markdown",
   "metadata": {},
   "source": [
    "###compiling a file by typing terminal commands from ipython"
   ]
  },
  {
   "cell_type": "code",
   "execution_count": 3,
   "metadata": {
    "collapsed": false
   },
   "outputs": [],
   "source": [
    "!cd /users/ironstein/documents/projects\\ working\\ directory/handwriting\\ recognition\\ using\\ neural\\ networks\\ on\\ FPGA\\ final\\ year\\ project/image\\ processing/ipython\\ notebooks\n",
    "!clang -c helloworld.c"
   ]
  },
  {
   "cell_type": "markdown",
   "metadata": {},
   "source": [
    "###compiling the object file to shared object library"
   ]
  },
  {
   "cell_type": "code",
   "execution_count": 4,
   "metadata": {
    "collapsed": false
   },
   "outputs": [
    {
     "name": "stdout",
     "output_type": "stream",
     "text": [
      "helloworld.so: Mach-O 64-bit dynamically linked shared library x86_64\r\n"
     ]
    }
   ],
   "source": [
    "!clang -o helloworld.so -shared helloworld.o\n",
    "!file helloworld.so"
   ]
  },
  {
   "cell_type": "markdown",
   "metadata": {},
   "source": [
    "###python file to access the C library"
   ]
  },
  {
   "cell_type": "code",
   "execution_count": 14,
   "metadata": {
    "collapsed": false
   },
   "outputs": [
    {
     "name": "stdout",
     "output_type": "stream",
     "text": [
      "Overwriting _helloworld.py\n"
     ]
    }
   ],
   "source": [
    "%%file _helloworld.py\n",
    "\n",
    "import numpy\n",
    "import ctypes\n",
    "\n",
    "_helloworld_ = numpy.ctypeslib.load_library('helloworld','.')\n",
    "\n",
    "_helloworld_.hello.argtypes = [ctypes.c_int]\n",
    "_helloworld_.hello.restype = ctypes.c_int\n",
    "\n",
    "def o() : \n",
    "    pass\n",
    "\n",
    "def m(n) : \n",
    "    print('hmm')\n",
    "\n",
    "def rana(n,m) : \n",
    "    print(_helloworld_.hello(n))\n",
    "    \n",
    "rana(2,3)\n",
    "\n",
    "def o() : \n",
    "    pass"
   ]
  },
  {
   "cell_type": "markdown",
   "metadata": {},
   "source": [
    "follow strict naming conventions to avoid confusions between C file, object file, shared object file and python module names :\n",
    "* C files should be saved as filename.c\n",
    "* object files should be saved as filename.o\n",
    "* shared object files should be saved as filename.so\n",
    "* python modules should be named as __filename.py"
   ]
  },
  {
   "cell_type": "markdown",
   "metadata": {},
   "source": [
    "###<span style=\"color:red\">Note :</span>\n",
    "the python file should have the name different from that of the shared object file, because if then you import the python file, python instead tries to import the shared object file and throws an error"
   ]
  },
  {
   "cell_type": "markdown",
   "metadata": {},
   "source": [
    "###<span style=\"color:red\">Note :</span>\n",
    "do not use the names ***_helloworld.py*** and ***_helloworld_.py*** and ***abc.py**"
   ]
  },
  {
   "cell_type": "code",
   "execution_count": 15,
   "metadata": {
    "collapsed": false
   },
   "outputs": [
    {
     "name": "stdout",
     "output_type": "stream",
     "text": [
      "C says hello world!\r\n",
      "C says hello world!\r\n",
      "235\r\n"
     ]
    }
   ],
   "source": [
    "!python _helloworld.py"
   ]
  },
  {
   "cell_type": "code",
   "execution_count": 16,
   "metadata": {
    "collapsed": false
   },
   "outputs": [
    {
     "data": {
      "text/plain": [
       "<module '_helloworld' from '/Users/ironstein/Documents/projects working directory/handwriting recognition using neural networks on FPGA final year project/image processing/ipython notebooks/python C extension testing/_helloworld.py'>"
      ]
     },
     "execution_count": 16,
     "metadata": {},
     "output_type": "execute_result"
    }
   ],
   "source": [
    "import _helloworld\n",
    "_helloworld"
   ]
  },
  {
   "cell_type": "code",
   "execution_count": 33,
   "metadata": {
    "collapsed": false
   },
   "outputs": [
    {
     "ename": "TypeError",
     "evalue": "rana() missing 2 required positional arguments: 'n' and 'm'",
     "output_type": "error",
     "traceback": [
      "\u001b[0;31m---------------------------------------------------------------------------\u001b[0m",
      "\u001b[0;31mTypeError\u001b[0m                                 Traceback (most recent call last)",
      "\u001b[0;32m<ipython-input-33-1b85d120c9eb>\u001b[0m in \u001b[0;36m<module>\u001b[0;34m()\u001b[0m\n\u001b[0;32m----> 1\u001b[0;31m \u001b[0m_helloworld\u001b[0m\u001b[0;34m.\u001b[0m\u001b[0mrana\u001b[0m\u001b[0;34m(\u001b[0m\u001b[0;34m)\u001b[0m\u001b[0;34m\u001b[0m\u001b[0m\n\u001b[0m",
      "\u001b[0;31mTypeError\u001b[0m: rana() missing 2 required positional arguments: 'n' and 'm'"
     ]
    }
   ],
   "source": [
    "_helloworld.rana(1)"
   ]
  },
  {
   "cell_type": "code",
   "execution_count": null,
   "metadata": {
    "collapsed": true
   },
   "outputs": [],
   "source": []
  }
 ],
 "metadata": {
  "kernelspec": {
   "display_name": "Python 3",
   "language": "python",
   "name": "python3"
  },
  "language_info": {
   "codemirror_mode": {
    "name": "ipython",
    "version": 3
   },
   "file_extension": ".py",
   "mimetype": "text/x-python",
   "name": "python",
   "nbconvert_exporter": "python",
   "pygments_lexer": "ipython3",
   "version": "3.4.3"
  }
 },
 "nbformat": 4,
 "nbformat_minor": 0
}
