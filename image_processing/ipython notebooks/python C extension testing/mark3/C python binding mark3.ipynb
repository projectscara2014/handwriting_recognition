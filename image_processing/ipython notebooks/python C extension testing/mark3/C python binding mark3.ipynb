{
 "cells": [
  {
   "cell_type": "code",
   "execution_count": 1,
   "metadata": {
    "collapsed": true
   },
   "outputs": [],
   "source": [
    "working_directory = '/users/ironstein/documents/projects working directory/handwriting recognition using neural networks on FPGA final year project/image processing/ipython notebooks/python C extension testing/mark3'\n",
    "\n",
    "import os\n",
    "import time\n",
    "import graphlab as gl\n",
    "\n",
    "os.chdir(working_directory)"
   ]
  },
  {
   "cell_type": "code",
   "execution_count": 13,
   "metadata": {
    "collapsed": false,
    "scrolled": true
   },
   "outputs": [
    {
     "name": "stdout",
     "output_type": "stream",
     "text": [
      "Overwriting test.c\n"
     ]
    }
   ],
   "source": [
    "%%file test.c\n",
    "\n",
    "#include <stdio.h>\n",
    "\n",
    "void for_loop_test_without_register_values(int n) {\n",
    "    int i;\n",
    "    int j;\n",
    "    for(i=0;i<n;i++);\n",
    "}\n",
    "\n",
    "void for_loop_test_with_register_values(int n) {\n",
    "    \n",
    "    int var = n;\n",
    "    int i;\n",
    "    int p;     \n",
    "    \n",
    "    for(i=0;i<var;i++){\n",
    "        for(p=0;p<10000;p++);\n",
    "    }\n",
    "}\n"
   ]
  },
  {
   "cell_type": "markdown",
   "metadata": {},
   "source": [
    "###generating shared object for the above C file (test.so)\n"
   ]
  },
  {
   "cell_type": "code",
   "execution_count": 14,
   "metadata": {
    "collapsed": false
   },
   "outputs": [
    {
     "name": "stdout",
     "output_type": "stream",
     "text": [
      "test.so: Mach-O 64-bit dynamically linked shared library x86_64\r\n"
     ]
    }
   ],
   "source": [
    "os.system('cd ' + working_directory)\n",
    "!clang -c test.c\n",
    "!clang -o test.so -shared test.c\n",
    "!file test.so"
   ]
  },
  {
   "cell_type": "markdown",
   "metadata": {},
   "source": [
    "###python file to access the functions in test.so shared library"
   ]
  },
  {
   "cell_type": "code",
   "execution_count": 1,
   "metadata": {
    "collapsed": false
   },
   "outputs": [
    {
     "name": "stdout",
     "output_type": "stream",
     "text": [
      "Overwriting _test.py\n"
     ]
    }
   ],
   "source": [
    "%%file _test.py\n",
    "\n",
    "import numpy\n",
    "import ctypes\n",
    "\n",
    "_test_ = numpy.ctypeslib.load_library('test','.')\n",
    "\n",
    "#specifying the required argument types for each function\n",
    "_test_.for_loop_test_without_register_values.argtypes = [ctypes.c_int]\n",
    "_test_.for_loop_test_without_register_values.restype = ctypes.c_void_p\n",
    "_test_.for_loop_test_with_register_values.argtypes = [ctypes.c_int]\n",
    "_test_.for_loop_test_with_register_values.restype = ctypes.c_void_p\n",
    "\n",
    "def C_for_test_without_register_values(n) : \n",
    "    _test_.for_loop_test_without_register_values(n)\n",
    "    \n",
    "def C_for_test_with_register_values(n) : \n",
    "    _test_.for_loop_test_with_register_values(n)"
   ]
  },
  {
   "cell_type": "code",
   "execution_count": 16,
   "metadata": {
    "collapsed": true
   },
   "outputs": [],
   "source": [
    "def Python_for_test(n) : \n",
    "    for i in range(n) : \n",
    "        pass"
   ]
  },
  {
   "cell_type": "markdown",
   "metadata": {},
   "source": [
    "###decorator for calculating time of execution of a function"
   ]
  },
  {
   "cell_type": "code",
   "execution_count": 17,
   "metadata": {
    "collapsed": true
   },
   "outputs": [],
   "source": [
    "def time_this_function(function) : \n",
    "    try : \n",
    "        time\n",
    "    except : \n",
    "        import time\n",
    "    \n",
    "    def wrapper_function(*args,**kwargs) : \n",
    "        start_time = time.time()\n",
    "        function(*args,**kwargs)\n",
    "        elapsed_time = (time.time() - start_time)*1000\n",
    "#         print(elapsed_time,end=' ms\\n')\n",
    "        return(elapsed_time)\n",
    "        \n",
    "    return wrapper_function"
   ]
  },
  {
   "cell_type": "markdown",
   "metadata": {},
   "source": [
    "###testing Python and C functions for comparing the performance"
   ]
  },
  {
   "cell_type": "code",
   "execution_count": 18,
   "metadata": {
    "collapsed": false
   },
   "outputs": [],
   "source": [
    "import _test\n",
    "\n",
    "@time_this_function\n",
    "def C_test_without_register_values(n) : \n",
    "    _test.C_for_test_without_register_values(n)\n",
    "\n",
    "@time_this_function\n",
    "def C_test_with_register_values(n) : \n",
    "    _test.C_for_test_with_register_values\n",
    "    \n",
    "@time_this_function\n",
    "def Python_test(n) : \n",
    "    Python_for_test(n)\n",
    "    \n",
    "# a = C_test_with_register_values(1000)\n",
    "# a"
   ]
  },
  {
   "cell_type": "markdown",
   "metadata": {},
   "source": [
    "###time to compare the difference"
   ]
  },
  {
   "cell_type": "code",
   "execution_count": 19,
   "metadata": {
    "collapsed": false
   },
   "outputs": [
    {
     "name": "stdout",
     "output_type": "stream",
     "text": [
      "1\n",
      "10\n",
      "100\n",
      "1000\n",
      "10000\n",
      "100000\n",
      "1000000\n",
      "10000000\n",
      "100000000\n"
     ]
    }
   ],
   "source": [
    "C_time_array_without_register_values = []\n",
    "C_time_array_with_register_values = []\n",
    "Python_time_array = []\n",
    "count_array = []\n",
    "i = 1\n",
    "\n",
    "while(i <= 100000000) : \n",
    "    print(i)\n",
    "    C_time_array_without_register_values.append(C_test_without_register_values(i))\n",
    "    C_time_array_with_register_values.append(C_test_with_register_values(i))\n",
    "    Python_time_array.append(Python_test(i))\n",
    "    count_array.append(i)\n",
    "    i *= 10"
   ]
  },
  {
   "cell_type": "markdown",
   "metadata": {
    "collapsed": true
   },
   "source": [
    "###generate a CSV (comma seperated values) file for the recorded data, to be used in Graphlab Create"
   ]
  },
  {
   "cell_type": "code",
   "execution_count": 20,
   "metadata": {
    "collapsed": false
   },
   "outputs": [],
   "source": [
    "def generate_csv(name='default.csv',**kwargs) : \n",
    "    csv_file = open(name,'w')\n",
    "    \n",
    "    keys = kwargs.keys()\n",
    "    values = kwargs.values()\n",
    "    \n",
    "    for key in keys[:-1] : \n",
    "        csv_file.write(key),\n",
    "        csv_file.write(','),\n",
    "    csv_file.write(keys[-1])\n",
    "    csv_file.write('\\n')\n",
    "\n",
    "    for i in range(len(values[0])) : \n",
    "        for j in range(len(values)-1) : \n",
    "            csv_file.write(str(values[j][i])),\n",
    "            csv_file.write(','),\n",
    "        csv_file.write(str(values[len(values)-1][i]))\n",
    "        csv_file.write('\\n')\n",
    "        \n",
    "    csv_file.close()"
   ]
  },
  {
   "cell_type": "code",
   "execution_count": 21,
   "metadata": {
    "collapsed": false
   },
   "outputs": [
    {
     "name": "stdout",
     "output_type": "stream",
     "text": [
      "PROGRESS: Finished parsing file /Users/ironstein/Documents/projects working directory/handwriting recognition using neural networks on FPGA final year project/image processing/ipython notebooks/python C extension testing/mark3/test.csv\n",
      "PROGRESS: Parsing completed. Parsed 9 lines in 0.010127 secs.\n",
      "------------------------------------------------------\n",
      "Inferred types from first line of file as \n",
      "column_type_hints=[int,float,float,float]\n",
      "If parsing fails due to incorrect types, you can correct\n",
      "the inferred type list above and pass it to read_csv in\n",
      "the column_type_hints argument\n",
      "------------------------------------------------------\n",
      "PROGRESS: Finished parsing file /Users/ironstein/Documents/projects working directory/handwriting recognition using neural networks on FPGA final year project/image processing/ipython notebooks/python C extension testing/mark3/test.csv\n",
      "PROGRESS: Parsing completed. Parsed 9 lines in 0.013473 secs.\n"
     ]
    },
    {
     "data": {
      "text/html": [
       "<div style=\"max-height:1000px;max-width:1500px;overflow:auto;\"><table frame=\"box\" rules=\"cols\">\n",
       "    <tr>\n",
       "        <th style=\"padding-left: 1em; padding-right: 1em; text-align: center\">count</th>\n",
       "        <th style=\"padding-left: 1em; padding-right: 1em; text-align: center\">python_time</th>\n",
       "        <th style=\"padding-left: 1em; padding-right: 1em; text-align: center\">c_time_with_register_valu<br>es ...</th>\n",
       "        <th style=\"padding-left: 1em; padding-right: 1em; text-align: center\">c_time_without_register</th>\n",
       "    </tr>\n",
       "    <tr>\n",
       "        <td style=\"padding-left: 1em; padding-right: 1em; text-align: center; vertical-align: top\">1</td>\n",
       "        <td style=\"padding-left: 1em; padding-right: 1em; text-align: center; vertical-align: top\">0.00500679016113</td>\n",
       "        <td style=\"padding-left: 1em; padding-right: 1em; text-align: center; vertical-align: top\">0.000953674316406</td>\n",
       "        <td style=\"padding-left: 1em; padding-right: 1em; text-align: center; vertical-align: top\">0.018835067749</td>\n",
       "    </tr>\n",
       "    <tr>\n",
       "        <td style=\"padding-left: 1em; padding-right: 1em; text-align: center; vertical-align: top\">10</td>\n",
       "        <td style=\"padding-left: 1em; padding-right: 1em; text-align: center; vertical-align: top\">0.00309944152832</td>\n",
       "        <td style=\"padding-left: 1em; padding-right: 1em; text-align: center; vertical-align: top\">0.000953674316406</td>\n",
       "        <td style=\"padding-left: 1em; padding-right: 1em; text-align: center; vertical-align: top\">0.00405311584473</td>\n",
       "    </tr>\n",
       "    <tr>\n",
       "        <td style=\"padding-left: 1em; padding-right: 1em; text-align: center; vertical-align: top\">100</td>\n",
       "        <td style=\"padding-left: 1em; padding-right: 1em; text-align: center; vertical-align: top\">0.00715255737305</td>\n",
       "        <td style=\"padding-left: 1em; padding-right: 1em; text-align: center; vertical-align: top\">0.000953674316406</td>\n",
       "        <td style=\"padding-left: 1em; padding-right: 1em; text-align: center; vertical-align: top\">0.00500679016113</td>\n",
       "    </tr>\n",
       "    <tr>\n",
       "        <td style=\"padding-left: 1em; padding-right: 1em; text-align: center; vertical-align: top\">1000</td>\n",
       "        <td style=\"padding-left: 1em; padding-right: 1em; text-align: center; vertical-align: top\">0.0510215759277</td>\n",
       "        <td style=\"padding-left: 1em; padding-right: 1em; text-align: center; vertical-align: top\">0.0</td>\n",
       "        <td style=\"padding-left: 1em; padding-right: 1em; text-align: center; vertical-align: top\">0.00691413879395</td>\n",
       "    </tr>\n",
       "    <tr>\n",
       "        <td style=\"padding-left: 1em; padding-right: 1em; text-align: center; vertical-align: top\">10000</td>\n",
       "        <td style=\"padding-left: 1em; padding-right: 1em; text-align: center; vertical-align: top\">0.554084777832</td>\n",
       "        <td style=\"padding-left: 1em; padding-right: 1em; text-align: center; vertical-align: top\">0.00119209289551</td>\n",
       "        <td style=\"padding-left: 1em; padding-right: 1em; text-align: center; vertical-align: top\">0.0581741333008</td>\n",
       "    </tr>\n",
       "    <tr>\n",
       "        <td style=\"padding-left: 1em; padding-right: 1em; text-align: center; vertical-align: top\">100000</td>\n",
       "        <td style=\"padding-left: 1em; padding-right: 1em; text-align: center; vertical-align: top\">3.91387939453</td>\n",
       "        <td style=\"padding-left: 1em; padding-right: 1em; text-align: center; vertical-align: top\">0.00214576721191</td>\n",
       "        <td style=\"padding-left: 1em; padding-right: 1em; text-align: center; vertical-align: top\">0.291109085083</td>\n",
       "    </tr>\n",
       "    <tr>\n",
       "        <td style=\"padding-left: 1em; padding-right: 1em; text-align: center; vertical-align: top\">1000000</td>\n",
       "        <td style=\"padding-left: 1em; padding-right: 1em; text-align: center; vertical-align: top\">65.8710002899</td>\n",
       "        <td style=\"padding-left: 1em; padding-right: 1em; text-align: center; vertical-align: top\">0.000953674316406</td>\n",
       "        <td style=\"padding-left: 1em; padding-right: 1em; text-align: center; vertical-align: top\">2.33817100525</td>\n",
       "    </tr>\n",
       "    <tr>\n",
       "        <td style=\"padding-left: 1em; padding-right: 1em; text-align: center; vertical-align: top\">10000000</td>\n",
       "        <td style=\"padding-left: 1em; padding-right: 1em; text-align: center; vertical-align: top\">497.354984283</td>\n",
       "        <td style=\"padding-left: 1em; padding-right: 1em; text-align: center; vertical-align: top\">0.00190734863281</td>\n",
       "        <td style=\"padding-left: 1em; padding-right: 1em; text-align: center; vertical-align: top\">23.875951767</td>\n",
       "    </tr>\n",
       "    <tr>\n",
       "        <td style=\"padding-left: 1em; padding-right: 1em; text-align: center; vertical-align: top\">100000000</td>\n",
       "        <td style=\"padding-left: 1em; padding-right: 1em; text-align: center; vertical-align: top\">5080.3000927</td>\n",
       "        <td style=\"padding-left: 1em; padding-right: 1em; text-align: center; vertical-align: top\">0.00190734863281</td>\n",
       "        <td style=\"padding-left: 1em; padding-right: 1em; text-align: center; vertical-align: top\">234.472990036</td>\n",
       "    </tr>\n",
       "</table>\n",
       "[9 rows x 4 columns]<br/>\n",
       "</div>"
      ],
      "text/plain": [
       "Columns:\n",
       "\tcount\tint\n",
       "\tpython_time\tfloat\n",
       "\tc_time_with_register_values\tfloat\n",
       "\tc_time_without_register\tfloat\n",
       "\n",
       "Rows: 9\n",
       "\n",
       "Data:\n",
       "+-----------+------------------+-----------------------------+-------------------------+\n",
       "|   count   |   python_time    | c_time_with_register_values | c_time_without_register |\n",
       "+-----------+------------------+-----------------------------+-------------------------+\n",
       "|     1     | 0.00500679016113 |      0.000953674316406      |      0.018835067749     |\n",
       "|     10    | 0.00309944152832 |      0.000953674316406      |     0.00405311584473    |\n",
       "|    100    | 0.00715255737305 |      0.000953674316406      |     0.00500679016113    |\n",
       "|    1000   | 0.0510215759277  |             0.0             |     0.00691413879395    |\n",
       "|   10000   |  0.554084777832  |       0.00119209289551      |     0.0581741333008     |\n",
       "|   100000  |  3.91387939453   |       0.00214576721191      |      0.291109085083     |\n",
       "|  1000000  |  65.8710002899   |      0.000953674316406      |      2.33817100525      |\n",
       "|  10000000 |  497.354984283   |       0.00190734863281      |       23.875951767      |\n",
       "| 100000000 |   5080.3000927   |       0.00190734863281      |      234.472990036      |\n",
       "+-----------+------------------+-----------------------------+-------------------------+\n",
       "[9 rows x 4 columns]"
      ]
     },
     "execution_count": 21,
     "metadata": {},
     "output_type": "execute_result"
    }
   ],
   "source": [
    "generate_csv(name='test.csv',c_time_without_register = C_time_array_without_register_values,\\\n",
    "             c_time_with_register_values = C_time_array_with_register_values,\\\n",
    "             python_time = Python_time_array,count = count_array)\n",
    "dataset = gl.SFrame('test.csv')\n",
    "dataset"
   ]
  },
  {
   "cell_type": "code",
   "execution_count": 22,
   "metadata": {
    "collapsed": false
   },
   "outputs": [
    {
     "data": {
      "application/javascript": [
       "$(\"head\").append($(\"<link/>\").attr({\n",
       "  rel:  \"stylesheet\",\n",
       "  type: \"text/css\",\n",
       "  href: \"//cdnjs.cloudflare.com/ajax/libs/font-awesome/4.1.0/css/font-awesome.min.css\"\n",
       "}));\n",
       "$(\"head\").append($(\"<link/>\").attr({\n",
       "  rel:  \"stylesheet\",\n",
       "  type: \"text/css\",\n",
       "  href: \"//dato.com/files/canvas/1.6.1/css/canvas.css\"\n",
       "}));\n",
       "\n",
       "            (function(){\n",
       "\n",
       "                var e = null;\n",
       "                if (typeof element == 'undefined') {\n",
       "                    var scripts = document.getElementsByTagName('script');\n",
       "                    var thisScriptTag = scripts[scripts.length-1];\n",
       "                    var parentDiv = thisScriptTag.parentNode;\n",
       "                    e = document.createElement('div');\n",
       "                    parentDiv.appendChild(e);\n",
       "                } else {\n",
       "                    e = element[0];\n",
       "                }\n",
       "\n",
       "                if (typeof requirejs !== 'undefined') {\n",
       "                    // disable load timeout; ipython_app.js is large and can take a while to load.\n",
       "                    requirejs.config({waitSeconds: 0});\n",
       "                }\n",
       "\n",
       "                require(['//dato.com/files/canvas/1.6.1/js/ipython_app.js'], function(IPythonApp){\n",
       "                    var app = new IPythonApp();\n",
       "                    app.attachView('sframe','Plots', {\"selected_variable\": {\"name\": [\"dataset\"], \"descriptives\": {\"rows\": 9, \"columns\": 4}, \"view_component\": \"Plots\", \"view_file\": \"sframe\", \"view_params\": {\"y\": \"python_time\", \"x\": \"count\", \"columns\": [\"count\", \"python_time\", \"c_time_with_register_values\", \"c_time_without_register\"], \"view\": \"Line Chart\"}, \"view_components\": [\"Summary\", \"Table\", \"Bar Chart\", \"BoxWhisker Plot\", \"Line Chart\", \"Scatter Plot\", \"Heat Map\", \"Plots\"], \"type\": \"SFrame\", \"columns\": [{\"dtype\": \"int\", \"name\": \"count\"}, {\"dtype\": \"float\", \"name\": \"python_time\"}, {\"dtype\": \"float\", \"name\": \"c_time_with_register_values\"}, {\"dtype\": \"float\", \"name\": \"c_time_without_register\"}], \"column_identifiers\": [\"count\", \"python_time\", \"c_time_with_register_values\", \"c_time_without_register\"]}, \"complete\": 1, \"ipython\": true, \"progress\": 1.0, \"data\": [[1, 0.00500679016113], [10, 0.00309944152832], [100, 0.00715255737305], [1000, 0.0510215759277], [10000, 0.554084777832], [100000, 3.91387939453], [1000000, 65.8710002899], [10000000, 497.354984283], [100000000, 5080.3000927]], \"columns\": [{\"dtype\": \"int\", \"name\": \"count\"}, {\"dtype\": \"float\", \"name\": \"python_time\"}, {\"dtype\": \"float\", \"name\": \"c_time_with_register_values\"}, {\"dtype\": \"float\", \"name\": \"c_time_without_register\"}]}, e);\n",
       "                });\n",
       "            })();\n",
       "        "
      ]
     },
     "metadata": {},
     "output_type": "display_data"
    }
   ],
   "source": [
    "gl.canvas.set_target('ipynb')\n",
    "dataset.show(view='Line Chart',y='python_time',x='count')"
   ]
  },
  {
   "cell_type": "code",
   "execution_count": null,
   "metadata": {
    "collapsed": true
   },
   "outputs": [],
   "source": []
  },
  {
   "cell_type": "code",
   "execution_count": null,
   "metadata": {
    "collapsed": true
   },
   "outputs": [],
   "source": []
  }
 ],
 "metadata": {
  "kernelspec": {
   "display_name": "Python 2",
   "language": "python",
   "name": "python2"
  },
  "language_info": {
   "codemirror_mode": {
    "name": "ipython",
    "version": 2
   },
   "file_extension": ".py",
   "mimetype": "text/x-python",
   "name": "python",
   "nbconvert_exporter": "python",
   "pygments_lexer": "ipython2",
   "version": "2.7.10"
  }
 },
 "nbformat": 4,
 "nbformat_minor": 0
}
