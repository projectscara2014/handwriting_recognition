{
 "cells": [
  {
   "cell_type": "markdown",
   "metadata": {},
   "source": [
    "#  setup"
   ]
  },
  {
   "cell_type": "code",
   "execution_count": 1,
   "metadata": {
    "collapsed": false
   },
   "outputs": [
    {
     "name": "stdout",
     "output_type": "stream",
     "text": [
      "Overwriting locate_file.py\n"
     ]
    }
   ],
   "source": [
    "%%file locate_file.py\n",
    "\n",
    "def locate_file() : \n",
    "    working_directory = ''\n",
    "    for element in __file__.split('/')[:-1] :\n",
    "        working_directory += element + '/'\n",
    "    return working_directory"
   ]
  },
  {
   "cell_type": "code",
   "execution_count": 2,
   "metadata": {
    "collapsed": true
   },
   "outputs": [],
   "source": [
    "import locate_file\n",
    "working_directory = locate_file.locate_file()\n",
    "\n",
    "import os\n",
    "import matplotlib.pyplot as plt\n",
    "import matplotlib\n",
    "import numpy\n",
    "\n",
    "%matplotlib inline\n",
    "os.chdir(working_directory)"
   ]
  },
  {
   "cell_type": "markdown",
   "metadata": {},
   "source": [
    "# convolution.c"
   ]
  },
  {
   "cell_type": "code",
   "execution_count": 3,
   "metadata": {
    "collapsed": false
   },
   "outputs": [
    {
     "name": "stdout",
     "output_type": "stream",
     "text": [
      "Overwriting convolution.c\n"
     ]
    }
   ],
   "source": [
    "%%file convolution.c\n",
    "#import <math.h>\n",
    "#include <stdio.h>\n",
    "\n",
    "void convolution(int *array, int rows, int columns) {\n",
    "    int i,j;\n",
    "    int return_array[rows][columns];\n",
    "    for(i=0;i<rows;i++){ \n",
    "        for(j=0;j<columns;j++) {\n",
    "            *(array+(i*columns)+j) = 255 - *(array+(i*columns)+j);\n",
    "        }\n",
    "    }\n",
    "}"
   ]
  },
  {
   "cell_type": "markdown",
   "metadata": {},
   "source": [
    "# compilation"
   ]
  },
  {
   "cell_type": "code",
   "execution_count": 4,
   "metadata": {
    "collapsed": false
   },
   "outputs": [
    {
     "name": "stdout",
     "output_type": "stream",
     "text": [
      "libconvolution.so: Mach-O 64-bit dynamically linked shared library x86_64\r\n"
     ]
    }
   ],
   "source": [
    "os.system('cd ' + working_directory)\n",
    "!clang -c convolution.c\n",
    "!clang -o libconvolution.so -shared convolution.o\n",
    "!file libconvolution.so"
   ]
  },
  {
   "cell_type": "markdown",
   "metadata": {},
   "source": [
    "# python wrapper module"
   ]
  },
  {
   "cell_type": "code",
   "execution_count": 5,
   "metadata": {
    "collapsed": false
   },
   "outputs": [
    {
     "name": "stdout",
     "output_type": "stream",
     "text": [
      "Overwriting _convolution.py\n"
     ]
    }
   ],
   "source": [
    "%%file _convolution.py\n",
    "import ctypes\n",
    "import numpy\n",
    "import locate_file\n",
    "working_directory = locate_file.locate_file()\n",
    "\n",
    "_convolution_ = ctypes.cdll.LoadLibrary(working_directory + 'libconvolution.so')\n",
    "\n",
    "class image_type() : \n",
    "    \n",
    "    def from_param(self,param) : \n",
    "        typename = type(param).__name__\n",
    "        if hasattr(self,'from_'+typename) : \n",
    "            return getattr(self,'from_'+typename)(param)\n",
    "        elif isinstance(param,ctypes.Array) : \n",
    "            \n",
    "            return param\n",
    "        else : \n",
    "            raise TypeError('type %s not supported' %typename) \n",
    "    \n",
    "    def from_ndarray(self,param) : \n",
    "        c_array = numpy.ascontiguousarray(param)\n",
    "        pointer = c_array.ctypes\n",
    "        return pointer\n",
    "    \n",
    "    def from_list(self,param) : \n",
    "        return self.from_ndarray(param)\n",
    "    \n",
    "    def from_tuple(self,param) : \n",
    "        return self.from_ndarray(param)\n",
    "    \n",
    "image_type_ = image_type()\n",
    "    \n",
    "_convolution_.convolution.argtypes = [image_type_,ctypes.c_int,ctypes.c_int]\n",
    "_convolution_.convolution.restype = ctypes.c_void_p\n",
    "\n",
    "def convolution(array) : \n",
    "    c_array = numpy.ascontiguousarray(array,dtype=numpy.uint32)\n",
    "    _convolution_.convolution(c_array,len(array),len(array[0]))\n",
    "    return c_array"
   ]
  },
  {
   "cell_type": "markdown",
   "metadata": {},
   "source": [
    "**numpy.ascontiguousarray** returns a contiguous array in memory (C order)"
   ]
  },
  {
   "cell_type": "markdown",
   "metadata": {},
   "source": [
    "# testing"
   ]
  },
  {
   "cell_type": "markdown",
   "metadata": {},
   "source": [
    "### class image processing"
   ]
  },
  {
   "cell_type": "code",
   "execution_count": 6,
   "metadata": {
    "collapsed": true
   },
   "outputs": [],
   "source": [
    "class image_processing() : \n",
    "    \n",
    "    def __init__(self) : \n",
    "        pass\n",
    "    \n",
    "    def convolution(self,image,kernel) : \n",
    "        \n",
    "        scaling_factor = kernel[0]\n",
    "        kernel = kernel[1]\n",
    "        image_width = len(image[0])\n",
    "        image_height = len(image)\n",
    "        kernel_width = len(kernel[0])\n",
    "        kernel_height = len(kernel)\n",
    "\n",
    "        return_image = []\n",
    "\n",
    "        def element_wise_matrix_multiplication(matrix1,matrix2,scaling_factor=1) :\n",
    "            return_value = 0\n",
    "            for m1_row,m2_row in zip(matrix1,matrix2) :\n",
    "                for m1_pixel,m2_pixel in zip(m1_row,m2_row) :\n",
    "                    return_value += int(m1_pixel)*int(m2_pixel)\n",
    "            return numpy.uint8(return_value/scaling_factor)\n",
    "                \n",
    "        for row in range(image_height - kernel_height + 1) :\n",
    "            return_image.append([])\n",
    "            for pixel in range(image_width - kernel_width + 1) :\n",
    "                image_slice = [[image[i,j] for j in range(pixel,pixel + kernel_width)]\\\n",
    "                               for i in range(row,row + kernel_height)]\n",
    "                #print(image_slice)\n",
    "                return_image[-1].append(element_wise_matrix_multiplication(image_slice,kernel,scaling_factor))\n",
    "        return numpy.array(return_image)\n",
    "    \n",
    "    def rgb_to_greyscale(self,image) : \n",
    "        return_image = []\n",
    "        for row in image : \n",
    "            return_image.append([])\n",
    "            for pixel in row : \n",
    "                try : \n",
    "                    [r,g,b,s] = pixel\n",
    "                except ValueError : \n",
    "                    [r,g,b] = pixel\n",
    "                return_image[-1].append(numpy.uint8((int(r)+int(g)+int(b))/3))\n",
    "        return numpy.array(return_image)\n",
    "    \n",
    "    def add_images(self,image1,image2) :\n",
    "        return_array = []\n",
    "        for row1,row2 in zip(image1,image2) : \n",
    "            return_array.append([])\n",
    "            for pixel1,pixel2 in zip(row1,row2) :\n",
    "                return_array[-1].append(numpy.uint8((int(pixel1))|(int(pixel2))))\n",
    "        return numpy.array(return_array)"
   ]
  },
  {
   "cell_type": "markdown",
   "metadata": {},
   "source": [
    "### decorator *time_this_function*"
   ]
  },
  {
   "cell_type": "code",
   "execution_count": 7,
   "metadata": {
    "collapsed": true
   },
   "outputs": [],
   "source": [
    "def time_this_function(function) : \n",
    "    try : \n",
    "        time\n",
    "    except : \n",
    "        import time\n",
    "    \n",
    "    def wrapper_function(*args,**kwargs) : \n",
    "        start_time = time.time()\n",
    "        return_value = function(*args,**kwargs)\n",
    "        elapsed_time = (time.time() - start_time)*1000\n",
    "        print('elapsed_time = ' + str(elapsed_time),end=' ms\\n')\n",
    "        return return_value\n",
    "    return wrapper_function"
   ]
  },
  {
   "cell_type": "code",
   "execution_count": 8,
   "metadata": {
    "collapsed": true
   },
   "outputs": [],
   "source": [
    "import _convolution\n",
    "\n",
    "@time_this_function \n",
    "def c_test(array) : \n",
    "    return _convolution.convolution(array)\n",
    "\n",
    "@time_this_function\n",
    "def python_test(array) : \n",
    "    return_array = []\n",
    "    for element in array :\n",
    "        return_array.append([])\n",
    "        for number in element : \n",
    "            return_array[-1].append(numpy.uint8(255-number))\n",
    "    return numpy.array(return_array)"
   ]
  },
  {
   "cell_type": "code",
   "execution_count": 9,
   "metadata": {
    "collapsed": true
   },
   "outputs": [],
   "source": [
    "image = plt.imread('sample_image_3.png')"
   ]
  },
  {
   "cell_type": "code",
   "execution_count": 10,
   "metadata": {
    "collapsed": false
   },
   "outputs": [
    {
     "data": {
      "text/plain": [
       "<matplotlib.image.AxesImage at 0x1057ebf60>"
      ]
     },
     "execution_count": 10,
     "metadata": {},
     "output_type": "execute_result"
    },
    {
     "data": {
      "image/png": "[encoded data removed]",
      "text/plain": [
       "<matplotlib.figure.Figure at 0x105632320>"
      ]
     },
     "metadata": {},
     "output_type": "display_data"
    }
   ],
   "source": [
    "image_processing_ = image_processing()\n",
    "image = image_processing_.rgb_to_greyscale(image)\n",
    "plt.imshow(image,cmap=plt.get_cmap('gray'))"
   ]
  },
  {
   "cell_type": "code",
   "execution_count": 11,
   "metadata": {
    "collapsed": false,
    "scrolled": true
   },
   "outputs": [
    {
     "name": "stdout",
     "output_type": "stream",
     "text": [
      "elapsed_time = 0.5218982696533203 ms\n"
     ]
    },
    {
     "data": {
      "text/plain": [
       "<matplotlib.image.AxesImage at 0x10574b630>"
      ]
     },
     "execution_count": 11,
     "metadata": {},
     "output_type": "execute_result"
    },
    {
     "data": {
      "image/png": "[encoded data removed]",
      "text/plain": [
       "<matplotlib.figure.Figure at 0x105779518>"
      ]
     },
     "metadata": {},
     "output_type": "display_data"
    }
   ],
   "source": [
    "c_image = c_test(image)\n",
    "plt.imshow(c_image,cmap=plt.get_cmap('gray'))"
   ]
  },
  {
   "cell_type": "code",
   "execution_count": null,
   "metadata": {
    "collapsed": true
   },
   "outputs": [],
   "source": []
  }
 ],
 "metadata": {
  "kernelspec": {
   "display_name": "Python 3",
   "language": "python",
   "name": "python3"
  },
  "language_info": {
   "codemirror_mode": {
    "name": "ipython",
    "version": 3
   },
   "file_extension": ".py",
   "mimetype": "text/x-python",
   "name": "python",
   "nbconvert_exporter": "python",
   "pygments_lexer": "ipython3",
   "version": "3.4.3"
  }
 },
 "nbformat": 4,
 "nbformat_minor": 0
}
