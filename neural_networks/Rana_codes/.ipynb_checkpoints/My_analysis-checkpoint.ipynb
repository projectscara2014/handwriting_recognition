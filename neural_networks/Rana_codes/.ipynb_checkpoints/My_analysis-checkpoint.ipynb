{
 "cells": [
  {
   "cell_type": "code",
   "execution_count": null,
   "metadata": {
    "collapsed": false
   },
   "outputs": [
    {
     "name": "stdout",
     "output_type": "stream",
     "text": [
      "Epoch 0: 999 / 10000\n",
      "Epoch 1: 999 / 10000\n",
      "Epoch 2: 999 / 10000\n",
      "Epoch 3: 999 / 10000\n",
      "Epoch 4: 999 / 10000\n",
      "Epoch 5: 999 / 10000\n",
      "Epoch 6: 999 / 10000\n",
      "Epoch 7: 999 / 10000\n",
      "Epoch 8: 999 / 10000\n",
      "Epoch 9: 999 / 10000"
     ]
    }
   ],
   "source": [
    "import os\n",
    "import mnist_loader\n",
    "import matplotlib.pyplot as ppl\n",
    "training_data, validation_data, test_data = mnist_loader.load_data_wrapper()\n",
    "import network\n",
    "import numpy as pylab\n",
    "\n",
    "net = network.Network([784, 30, 10])\n",
    "a = 15 \n",
    "b = 5\n",
    "c = 1\n",
    "#for i in range(a):\n",
    "#    for j in range(b):\n",
    "for j in range(0,6): \n",
    "    for k in range(0,10):\n",
    "        if (c >= 2):\n",
    "            c = 1\n",
    "        location = [\"C:\\Users\\Akash\\Pictures\\Neural_Net_graphs1\\\\\"]\n",
    "        temp = []\n",
    "        epoch_efficiency_list = net.SGD(training_data,a,b,c,test_data = test_data)\n",
    "        t = []\n",
    "        for i in range(len(epoch_efficiency_list)): t.append(i)\n",
    "        ppt.plot(t,epoch_efficiency_list, 'b-')\n",
    "        temp.append(str(a))\n",
    "        temp.append(str(b))\n",
    "        temp.append(str(c))\n",
    "        temp = \".\".join(temp)\n",
    "        location = location[0] + temp\n",
    "        print(location)\n",
    "        ppt.savefig('%s.png' % location)\n",
    "        pylab.ylim([0,1000])\n",
    "        ppt.clf()\n",
    "        location = \"\"\n",
    "        epoch_efficiency_list = []\n",
    "        c += 0.1\n",
    "        c = float(\"{0:.2f}\".format(c))\n",
    "    b += 5      "
   ]
  },
  {
   "cell_type": "code",
   "execution_count": null,
   "metadata": {
    "collapsed": true
   },
   "outputs": [],
   "source": []
  }
 ],
 "metadata": {
  "kernelspec": {
   "display_name": "Python 2",
   "language": "python",
   "name": "python2"
  },
  "language_info": {
   "codemirror_mode": {
    "name": "ipython",
    "version": 2
   },
   "file_extension": ".py",
   "mimetype": "text/x-python",
   "name": "python",
   "nbconvert_exporter": "python",
   "pygments_lexer": "ipython2",
   "version": "2.7.10"
  }
 },
 "nbformat": 4,
 "nbformat_minor": 0
}
