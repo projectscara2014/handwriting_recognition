{
 "cells": [
  {
   "cell_type": "code",
   "execution_count": 9,
   "metadata": {
    "collapsed": false
   },
   "outputs": [],
   "source": [
    "working_directory = '/users/ironstein/documents/projects working directory/handwriting recognition using neural networks on FPGA final year project/image processing/ipython notebooks/python C extension testing/mark1'\n",
    "\n",
    "import os\n",
    "import inspect\n",
    "from ctypes import *\n",
    "import time\n",
    "\n",
    "os.chdir(working_directory)"
   ]
  },
  {
   "cell_type": "markdown",
   "metadata": {},
   "source": [
    "###typing a C file into ipython and then saving it"
   ]
  },
  {
   "cell_type": "code",
   "execution_count": 10,
   "metadata": {
    "collapsed": false
   },
   "outputs": [
    {
     "name": "stdout",
     "output_type": "stream",
     "text": [
      "Overwriting helloworld.c\n"
     ]
    }
   ],
   "source": [
    "%%file helloworld.c\n",
    "\n",
    "#include <stdio.h>\n",
    "int i;\n",
    "int hello(int n) {\n",
    "    int val = n*1000;\n",
    "    for(i=0;i<val;i++);\n",
    "    return(1);\n",
    "}"
   ]
  },
  {
   "cell_type": "markdown",
   "metadata": {},
   "source": [
    "###compiling a file by typing terminal commands from ipython"
   ]
  },
  {
   "cell_type": "code",
   "execution_count": 11,
   "metadata": {
    "collapsed": false
   },
   "outputs": [],
   "source": [
    "!cd /users/ironstein/documents/projects\\ working\\ directory/handwriting\\ recognition\\ using\\ neural\\ networks\\ on\\ FPGA\\ final\\ year\\ project/image\\ processing/ipython\\ notebooks/python\\ C\\ extension\\ testing/mark1\n",
    "!clang -c helloworld.c"
   ]
  },
  {
   "cell_type": "markdown",
   "metadata": {},
   "source": [
    "###compiling the object file to shared object library"
   ]
  },
  {
   "cell_type": "code",
   "execution_count": 12,
   "metadata": {
    "collapsed": false
   },
   "outputs": [
    {
     "name": "stdout",
     "output_type": "stream",
     "text": [
      "helloworld.so: Mach-O 64-bit dynamically linked shared library x86_64\r\n"
     ]
    }
   ],
   "source": [
    "!clang -o helloworld.so -shared helloworld.o\n",
    "!file helloworld.so"
   ]
  },
  {
   "cell_type": "markdown",
   "metadata": {},
   "source": [
    "###python file to access the C library"
   ]
  },
  {
   "cell_type": "code",
   "execution_count": 13,
   "metadata": {
    "collapsed": false
   },
   "outputs": [
    {
     "name": "stdout",
     "output_type": "stream",
     "text": [
      "Overwriting superduper.py\n"
     ]
    }
   ],
   "source": [
    "%%file superduper.py\n",
    "\n",
    "def pqrs() : \n",
    "    print('asdg')\n",
    "\n",
    "import numpy\n",
    "import ctypes\n",
    "\n",
    "_helloworld_ = numpy.ctypeslib.load_library('helloworld','.')\n",
    "\n",
    "_helloworld_.hello.argtypes = [ctypes.c_int]\n",
    "_helloworld_.hello.restype = ctypes.c_int\n",
    "\n",
    "def m(n) : \n",
    "    print('hmm')\n",
    "\n",
    "def rana(n) : \n",
    "    print(_helloworld_.hello(n))\n",
    "    \n",
    "def mnop() : \n",
    "    pass\n",
    "\n",
    "def qrst() : \n",
    "    pass\n",
    "\n",
    "def ger() : \n",
    "    pass\n",
    "\n",
    "rana(1000)"
   ]
  },
  {
   "cell_type": "markdown",
   "metadata": {},
   "source": [
    "follow strict naming conventions to avoid confusions between C file, object file, shared object file and python module names :\n",
    "* C files should be saved as filename.c\n",
    "* object files should be saved as filename.o\n",
    "* shared object files should be saved as filename.so\n",
    "* python modules should be named as _filename.py (can not be __filename.py since the import mechanism throws an error)"
   ]
  },
  {
   "cell_type": "markdown",
   "metadata": {},
   "source": [
    "###<span style=\"color:red\">Note :</span>\n",
    "the python file should have the name different from that of the shared object file, because if then you import the python file, python instead tries to import the shared object file and throws an error"
   ]
  },
  {
   "cell_type": "markdown",
   "metadata": {},
   "source": [
    "###<span style=\"color:red\">Note :</span>\n",
    "do not use the names ***_helloworld.py*** and ***_helloworld_.py*** and ***abc.py***"
   ]
  },
  {
   "cell_type": "code",
   "execution_count": 14,
   "metadata": {
    "collapsed": false
   },
   "outputs": [
    {
     "name": "stdout",
     "output_type": "stream",
     "text": [
      "1\r\n"
     ]
    }
   ],
   "source": [
    "!python superduper.py"
   ]
  },
  {
   "cell_type": "code",
   "execution_count": 15,
   "metadata": {
    "collapsed": false
   },
   "outputs": [
    {
     "name": "stdout",
     "output_type": "stream",
     "text": [
      "1\n"
     ]
    },
    {
     "data": {
      "text/plain": [
       "<function superduper.ger>"
      ]
     },
     "execution_count": 15,
     "metadata": {},
     "output_type": "execute_result"
    }
   ],
   "source": [
    "import superduper\n",
    "superduper.pqrs\n",
    "superduper.mnop\n",
    "superduper.qrst\n",
    "superduper.ger"
   ]
  },
  {
   "cell_type": "markdown",
   "metadata": {},
   "source": [
    "###decorator for timing a function"
   ]
  },
  {
   "cell_type": "code",
   "execution_count": 16,
   "metadata": {
    "collapsed": false
   },
   "outputs": [],
   "source": [
    "def time_a_function(function) :\n",
    "    try :\n",
    "        time \n",
    "    except : \n",
    "        import time\n",
    "        \n",
    "    def wrapper(*args,**kwargs) : \n",
    "        start_time = time.time() \n",
    "        function(*args,**kwargs)\n",
    "#         print(time.time() - start_time)\n",
    "        print((time.time() - start_time)*1000000,end='us\\n')\n",
    "    \n",
    "    return wrapper"
   ]
  },
  {
   "cell_type": "code",
   "execution_count": 20,
   "metadata": {
    "collapsed": false
   },
   "outputs": [
    {
     "name": "stdout",
     "output_type": "stream",
     "text": [
      "8385854.005813599us\n"
     ]
    }
   ],
   "source": [
    "@time_a_function \n",
    "def test_for(n) : \n",
    "    val = n*1000\n",
    "    for i in range(n*val) : \n",
    "        pass\n",
    "    \n",
    "test_for(500)"
   ]
  },
  {
   "cell_type": "code",
   "execution_count": 18,
   "metadata": {
    "collapsed": false
   },
   "outputs": [],
   "source": [
    "@time_a_function\n",
    "def test_superduper_rana(n) : \n",
    "    superduper.rana(n)"
   ]
  },
  {
   "cell_type": "code",
   "execution_count": 21,
   "metadata": {
    "collapsed": false
   },
   "outputs": [
    {
     "name": "stdout",
     "output_type": "stream",
     "text": [
      "1\n",
      "1470.0889587402344us\n"
     ]
    }
   ],
   "source": [
    "test_superduper_rana(500)"
   ]
  },
  {
   "cell_type": "code",
   "execution_count": 22,
   "metadata": {
    "collapsed": false
   },
   "outputs": [
    {
     "data": {
      "text/plain": [
       "5704.662585034013"
      ]
     },
     "execution_count": 22,
     "metadata": {},
     "output_type": "execute_result"
    }
   ],
   "source": [
    "8385854/1470"
   ]
  },
  {
   "cell_type": "code",
   "execution_count": null,
   "metadata": {
    "collapsed": true
   },
   "outputs": [],
   "source": []
  }
 ],
 "metadata": {
  "kernelspec": {
   "display_name": "Python 3",
   "language": "python",
   "name": "python3"
  },
  "language_info": {
   "codemirror_mode": {
    "name": "ipython",
    "version": 3
   },
   "file_extension": ".py",
   "mimetype": "text/x-python",
   "name": "python",
   "nbconvert_exporter": "python",
   "pygments_lexer": "ipython3",
   "version": "3.4.3"
  }
 },
 "nbformat": 4,
 "nbformat_minor": 0
}
