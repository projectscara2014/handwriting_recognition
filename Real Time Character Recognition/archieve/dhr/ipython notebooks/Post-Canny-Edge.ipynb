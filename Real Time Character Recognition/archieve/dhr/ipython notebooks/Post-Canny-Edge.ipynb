{
 "cells": [
  {
   "cell_type": "code",
   "execution_count": 1,
   "metadata": {
    "collapsed": true
   },
   "outputs": [],
   "source": [
    "import copy\n",
    "def time_this_function(function) : \n",
    "    try : \n",
    "        time\n",
    "    except : \n",
    "        import time\n",
    "    \n",
    "    def wrapper_function(*args,**kwargs) : \n",
    "        start_time = time.time()\n",
    "        return_value = function(*args,**kwargs)\n",
    "        elapsed_time = (time.time() - start_time)*1000\n",
    "        print(function.__name__ + ' -- elapsed_time -- ' + str(elapsed_time) + ' ms\\n')\n",
    "        return return_value\n",
    "    return wrapper_function"
   ]
  },
  {
   "cell_type": "markdown",
   "metadata": {},
   "source": [
    "###Destroyer Modified"
   ]
  },
  {
   "cell_type": "code",
   "execution_count": 7,
   "metadata": {
    "collapsed": false
   },
   "outputs": [
    {
     "name": "stdout",
     "output_type": "stream",
     "text": [
      "[0, 1, 1, 0, 0, 0, 1]\n",
      "[0, 1, 1, 1, 0, 0, 1]\n",
      "[0, 0, 1, 0, 0, 1, 0]\n",
      "[0, 0, 0, 0, 0, 0, 1]\n",
      "[1, 0, 1, 0, 1, 0, 1]\n",
      "[0, 0, 1, 1, 0, 0, 1]\n",
      "[0, 1, 0, 0, 0, 1, 0]\n",
      "[0, 0, 1, 1, 1, 0, 0]\n"
     ]
    }
   ],
   "source": [
    "# im = [[0,0,1,0,0,0,1],[0,0,0,1,0,0,1],[1,0,1,1,0,1,0],[1,0,1,0,0,1,0],[1,0,0,0,1,0,0],[0,1,0,1,0,0,1],[0,0,1,0,0,1,1]]\n",
    "# im = [[0,0,1,0,0,0,1,0,1],[0,0,0,1,0,0,1,0,1],[1,0,1,1,0,1,0,0,1],[1,0,1,0,0,1,0,0,1],[1,0,0,0,1,0,1,0,1],[0,1,0,1,0,0,0,1,0],[0,0,1,0,0,1,0,0,0]]\n",
    "im = [[0,1,1,0,0,0,1],[0,1,1,1,0,0,1],[0,0,1,0,0,1,0],[0,0,0,0,0,0,1],[1,0,1,0,1,0,1],[0,0,1,1,0,0,1],[0,1,0,0,0,1,0],[0,0,1,1,1,0,0]]\n",
    "def print_(im,im2=None):\n",
    "    for i in range(len(im)):\n",
    "        if(im2 == None): print im[i]\n",
    "        else: print(str(im[i]) + \"        \" + str(im2[i]))\n",
    "\n",
    "print_(im)"
   ]
  },
  {
   "cell_type": "code",
   "execution_count": 8,
   "metadata": {
    "collapsed": true
   },
   "outputs": [],
   "source": [
    "def check_for_predecessor(im2,r,c,black = 0):\n",
    "    if(r>0):\n",
    "        prev_row = im2[r-1]\n",
    "    else:\n",
    "        return False\n",
    "    p = []\n",
    "    for i in range(c-1,c+2):\n",
    "        if(i>=0 and i<len(prev_row)):\n",
    "            if(prev_row[i] != black):\n",
    "                p.append(prev_row[i])\n",
    "    if(p==[]):\n",
    "        return False\n",
    "    else:\n",
    "        return (p)\n",
    "    "
   ]
  },
  {
   "cell_type": "code",
   "execution_count": 9,
   "metadata": {
    "collapsed": true
   },
   "outputs": [],
   "source": [
    "def check_predecessor2(im2,r,c,black=0):\n",
    "#     print(\"checking for \"+str(r)+\" \"+str(c))\n",
    "    if(r>0):\n",
    "        prev_row = im2[r-1]\n",
    "    else:\n",
    "        return im2\n",
    "    for i in range(c-1,c+2):\n",
    "        if(i>=0 and i<len(prev_row)):\n",
    "            if(prev_row[i] != black):\n",
    "                im2[r-1][i] = im2[r][c]\n",
    "    return im2"
   ]
  },
  {
   "cell_type": "code",
   "execution_count": 10,
   "metadata": {
    "collapsed": false,
    "scrolled": false
   },
   "outputs": [
    {
     "name": "stdout",
     "output_type": "stream",
     "text": [
      "[0, 1, 1, 0, 0, 0, 1]        [0, 2, 3, 0, 0, 0, 4]\n",
      "[0, 1, 1, 1, 0, 0, 1]        [0, 2, 2, 3, 0, 0, 4]\n",
      "[0, 0, 1, 0, 0, 1, 0]        [0, 0, 2, 0, 0, 4, 0]\n",
      "[0, 0, 0, 0, 0, 0, 1]        [0, 0, 0, 0, 0, 0, 4]\n",
      "[1, 0, 1, 0, 1, 0, 1]        [5, 0, 6, 0, 7, 0, 4]\n",
      "[0, 0, 1, 1, 0, 0, 1]        [0, 0, 6, 6, 0, 0, 4]\n",
      "[0, 1, 0, 0, 0, 1, 0]        [0, 6, 0, 0, 0, 4, 0]\n",
      "[0, 0, 1, 1, 1, 0, 0]        [0, 0, 6, 8, 4, 0, 0]\n",
      "------------\n",
      "[0, 1, 1, 0, 0, 0, 1]        [0, 2, 2, 0, 0, 0, 4]\n",
      "[0, 1, 1, 1, 0, 0, 1]        [0, 2, 2, 2, 0, 0, 4]\n",
      "[0, 0, 1, 0, 0, 1, 0]        [0, 0, 2, 0, 0, 4, 0]\n",
      "[0, 0, 0, 0, 0, 0, 1]        [0, 0, 0, 0, 0, 0, 4]\n",
      "[1, 0, 1, 0, 1, 0, 1]        [5, 0, 6, 0, 6, 0, 4]\n",
      "[0, 0, 1, 1, 0, 0, 1]        [0, 0, 6, 6, 0, 0, 4]\n",
      "[0, 1, 0, 0, 0, 1, 0]        [0, 6, 0, 0, 0, 4, 0]\n",
      "[0, 0, 1, 1, 1, 0, 0]        [0, 0, 6, 8, 4, 0, 0]\n",
      "segmentor -- elapsed_time -- 0.0 ms\n",
      "\n"
     ]
    }
   ],
   "source": [
    "@time_this_function\n",
    "def segmentor(im):\n",
    "    black = 0\n",
    "    white = 1\n",
    "    im2 = copy.deepcopy(im)\n",
    "    count = 2\n",
    "    l_r = len(im)\n",
    "    l_c = len(im[0])\n",
    "#     im3 = []\n",
    "    for i in range(l_r):\n",
    "#         im3.append([])\n",
    "        for j in range(l_c):\n",
    "#             im3[-1].append([])\n",
    "            if(im[i][j] != black):\n",
    "                prev_val = check_for_predecessor(im2,i,j)\n",
    "                if(prev_val == False):\n",
    "                    im2[i][j] = count\n",
    "                    count +=1\n",
    "#                     count +=50 \n",
    "                else:\n",
    "                    im2[i][j] = min(prev_val)\n",
    "    print_(im,im2)\n",
    "    print(\"------------\")\n",
    "    for i in range(l_r):\n",
    "        for j in range(l_c):\n",
    "            if(im2[l_r-i-1][j] != black):\n",
    "                im2 = check_predecessor2(im2,l_r-i-1,j)\n",
    "    print_(im,im2)\n",
    "#     return im2\n",
    "    return im2\n",
    "    \n",
    "h = segmentor(im)"
   ]
  },
  {
   "cell_type": "code",
   "execution_count": null,
   "metadata": {
    "collapsed": false
   },
   "outputs": [],
   "source": []
  },
  {
   "cell_type": "code",
   "execution_count": null,
   "metadata": {
    "collapsed": true
   },
   "outputs": [],
   "source": []
  }
 ],
 "metadata": {
  "kernelspec": {
   "display_name": "Python 2",
   "language": "python",
   "name": "python2"
  },
  "language_info": {
   "codemirror_mode": {
    "name": "ipython",
    "version": 2
   },
   "file_extension": ".py",
   "mimetype": "text/x-python",
   "name": "python",
   "nbconvert_exporter": "python",
   "pygments_lexer": "ipython2",
   "version": "2.7.11"
  }
 },
 "nbformat": 4,
 "nbformat_minor": 0
}
