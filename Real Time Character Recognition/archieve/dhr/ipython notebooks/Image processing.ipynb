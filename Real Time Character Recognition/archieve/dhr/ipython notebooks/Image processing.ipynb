{
 "cells": [
  {
   "cell_type": "markdown",
   "metadata": {},
   "source": [
    "##System check"
   ]
  },
  {
   "cell_type": "code",
   "execution_count": 364,
   "metadata": {
    "collapsed": false
   },
   "outputs": [],
   "source": [
    "import sys\n",
    "osx = sys.platform"
   ]
  },
  {
   "cell_type": "markdown",
   "metadata": {},
   "source": [
    "##Directory change"
   ]
  },
  {
   "cell_type": "code",
   "execution_count": 365,
   "metadata": {
    "collapsed": false
   },
   "outputs": [
    {
     "data": {
      "text/plain": [
       "'C:\\\\Users\\\\dhrre\\\\Desktop\\\\Projects\\\\Handwriting_recognition_using_neural_nets_on_FPGA\\\\Image processing'"
      ]
     },
     "execution_count": 365,
     "metadata": {},
     "output_type": "execute_result"
    }
   ],
   "source": [
    "import os\n",
    "if(osx == \"win32\"):\n",
    "    os.chdir('C:\\Users\\dhrre\\Desktop\\Projects\\Handwriting_recognition_using_neural_nets_on_FPGA\\Image processing')\n",
    "else:\n",
    "    print(\"OSX ERROR\")\n",
    "os.getcwd()"
   ]
  },
  {
   "cell_type": "markdown",
   "metadata": {},
   "source": [
    "##Imports and setup"
   ]
  },
  {
   "cell_type": "code",
   "execution_count": 366,
   "metadata": {
    "collapsed": true
   },
   "outputs": [],
   "source": [
    "import numpy as np\n",
    "from IPython.display import Image\n",
    "import matplotlib\n",
    "from matplotlib.pyplot import imshow\n",
    "from PIL import Image"
   ]
  },
  {
   "cell_type": "markdown",
   "metadata": {},
   "source": [
    "##Class=> image_processing"
   ]
  },
  {
   "cell_type": "code",
   "execution_count": 367,
   "metadata": {
    "collapsed": true
   },
   "outputs": [],
   "source": [
    "class image_processing() : \n",
    "    \n",
    "    def __init__(self) : \n",
    "        pass\n",
    "    \n",
    "    def convolution(self,image,kernel) : \n",
    "        scaling_factor = kernel[0]\n",
    "        kernel = kernel[1]\n",
    "        image_width = len(image[0])\n",
    "        image_height = len(image)\n",
    "        kernel_width = len(kernel[0])\n",
    "        kernel_height = len(kernel)\n",
    "\n",
    "        return_image = []\n",
    "\n",
    "        def element_wise_matrix_multiplication(matrix1,matrix2,scaling_factor=1) :\n",
    "            return_value = 0\n",
    "            for m1_row,m2_row in zip(matrix1,matrix2) :\n",
    "                for m1_pixel,m2_pixel in zip(m1_row,m2_row) :\n",
    "                    return_value += int(m1_pixel)*int(m2_pixel)\n",
    "            return np.uint8(return_value/scaling_factor)\n",
    "                \n",
    "        for row in range(image_height - kernel_height + 1) :\n",
    "            return_image.append([])\n",
    "            for pixel in range(image_width - kernel_width + 1) :\n",
    "                image_slice = [[image[i,j] for j in range(pixel,pixel + kernel_width)] for i in range(row,row + kernel_height)]\n",
    "                #print(image_slice)\n",
    "                return_image[-1].append(element_wise_matrix_multiplication(image_slice,kernel,scaling_factor))\n",
    "        return np.array(return_image)\n",
    "    \n",
    "    def rgb_to_greyscale(self,image) : \n",
    "        return_image = []\n",
    "        for row in image : \n",
    "            return_image.append([])\n",
    "            for pixel in row :\n",
    "                try:\n",
    "                    [r,g,b,s] = pixel\n",
    "                except ValueError:\n",
    "                    [r,g,b] = pixel\n",
    "                return_image[-1].append(np.uint8((int(r)+int(g)+int(b))/3))\n",
    "        return np.array(return_image)"
   ]
  },
  {
   "cell_type": "markdown",
   "metadata": {},
   "source": [
    "##Display function"
   ]
  },
  {
   "cell_type": "code",
   "execution_count": 368,
   "metadata": {
    "collapsed": true
   },
   "outputs": [],
   "source": [
    "def display(image) : \n",
    "    if type(image) is type([]) : \n",
    "#         print(image)\n",
    "#         print(type(image))\n",
    "        i = len(image)*100 + 11\n",
    "        for images in image:\n",
    "            matplotlib.pyplot.subplot(i)\n",
    "            imshow(images,cmap=matplotlib.pyplot.get_cmap('gray'))\n",
    "            i = i+1\n",
    "    else : \n",
    "        % matplotlib inline\n",
    "        imshow(image,cmap=matplotlib.pyplot.get_cmap('gray'))"
   ]
  },
  {
   "cell_type": "markdown",
   "metadata": {},
   "source": [
    "##Original Image Display"
   ]
  },
  {
   "cell_type": "code",
   "execution_count": 369,
   "metadata": {
    "collapsed": false
   },
   "outputs": [
    {
     "data": {
      "image/png": "[encoded data removed]",
      "text/plain": [
       "<matplotlib.figure.Figure at 0xd1198d0>"
      ]
     },
     "metadata": {},
     "output_type": "display_data"
    }
   ],
   "source": [
    "image = np.array(Image.open('sample images/sample_image.jpg')) \n",
    "\n",
    "#imshow(image,cmap=matplotlib.pyplot.get_cmap('grey'))\n",
    "impr = image_processing()\n",
    "image = impr.rgb_to_greyscale(image)\n",
    "\n",
    "display(image)\n"
   ]
  },
  {
   "cell_type": "markdown",
   "metadata": {},
   "source": [
    "##Smoothened Image Display"
   ]
  },
  {
   "cell_type": "code",
   "execution_count": 370,
   "metadata": {
    "collapsed": false
   },
   "outputs": [
    {
     "data": {
      "image/png": "[encoded data removed]",
      "text/plain": [
       "<matplotlib.figure.Figure at 0xd119358>"
      ]
     },
     "metadata": {},
     "output_type": "display_data"
    }
   ],
   "source": [
    "def gaussian_filter(self,image) : \n",
    "    kernel = [273,[[1,4 ,7 ,4 ,1],\n",
    "                [4,16,26,16,4],\n",
    "                [7,26,41,26,7],\n",
    "                [4,16,26,16,4],\n",
    "                [1,4 ,7 ,4 ,1]]]\n",
    "    processed_image = self.convolution(image,kernel)\n",
    "    return processed_image\n",
    "\n",
    "image_processing.gaussian_filter = gaussian_filter\n",
    "impr = image_processing()\n",
    "im = impr.gaussian_filter(image)\n",
    "display(im)\n",
    "image = im"
   ]
  },
  {
   "cell_type": "markdown",
   "metadata": {},
   "source": [
    "##Vertical Edge Detection (Only detects black to white without smoothening filter)"
   ]
  },
  {
   "cell_type": "code",
   "execution_count": 371,
   "metadata": {
    "collapsed": false
   },
   "outputs": [
    {
     "data": {
      "image/png": "[encoded data removed]",
      "text/plain": [
       "<matplotlib.figure.Figure at 0xd6d2400>"
      ]
     },
     "metadata": {},
     "output_type": "display_data"
    }
   ],
   "source": [
    "def vertical_edge_detection(self,image) : \n",
    "    kernel = [1,[[-1,0,1],\n",
    "                 [-1,0,1],\n",
    "                 [-1,0,1]]]\n",
    "    processed_image = self.convolution(image,kernel)\n",
    "    return processed_image\n",
    "    \n",
    "image_processing.vertical_edge_detection = vertical_edge_detection\n",
    "impr = image_processing()\n",
    "im = impr.vertical_edge_detection(image)\n",
    "display(im)"
   ]
  },
  {
   "cell_type": "markdown",
   "metadata": {},
   "source": [
    "##Horizontal Edge Detection (Only detects black to white without smoothening filter)"
   ]
  },
  {
   "cell_type": "code",
   "execution_count": 372,
   "metadata": {
    "collapsed": false
   },
   "outputs": [
    {
     "data": {
      "image/png": "[encoded data removed]",
      "text/plain": [
       "<matplotlib.figure.Figure at 0xbd03cf8>"
      ]
     },
     "metadata": {},
     "output_type": "display_data"
    }
   ],
   "source": [
    "def horizontal_edge_detection(self,image) : \n",
    "    kernel = [1,[[-1,-1,-1],\n",
    "                 [ 0, 0, 0],\n",
    "                 [ 1, 1, 1]]]\n",
    "    processed_image = self.convolution(image,kernel)\n",
    "    return processed_image\n",
    "    \n",
    "image_processing.horizontal_edge_detection = horizontal_edge_detection\n",
    "impr = image_processing()\n",
    "im = impr.horizontal_edge_detection(image)\n",
    "display(im)"
   ]
  },
  {
   "cell_type": "markdown",
   "metadata": {},
   "source": [
    "##Horizontal plus Vertical Edge Detection (Only detects black to white without smoothening filter)"
   ]
  },
  {
   "cell_type": "code",
   "execution_count": 373,
   "metadata": {
    "collapsed": false
   },
   "outputs": [
    {
     "data": {
      "image/png": "[encoded data removed]",
      "text/plain": [
       "<matplotlib.figure.Figure at 0xab11d68>"
      ]
     },
     "metadata": {},
     "output_type": "display_data"
    }
   ],
   "source": [
    "def horizontal_plus_vertical_edge_detection(self,image) :\n",
    "    horizontal = self.horizontal_edge_detection(image)\n",
    "    vertical = self.vertical_edge_detection(image)\n",
    "    rows = len(horizontal)\n",
    "    columns = len(horizontal[0])\n",
    "    \n",
    "    return_array = []\n",
    "    for i in range(rows) :\n",
    "        return_array.append([])\n",
    "        for j in range(columns) : \n",
    "            return_array[-1].append(np.uint8(int(horizontal[i,j]) + int(vertical[i,j])))\n",
    "    return np.array(return_array)\n",
    "\n",
    "image_processing.horizontal_plus_vertical_edge_detection = horizontal_plus_vertical_edge_detection\n",
    "impr = image_processing()\n",
    "im = Image.fromarray(impr.horizontal_plus_vertical_edge_detection(image))\n",
    "display(im)"
   ]
  },
  {
   "cell_type": "markdown",
   "metadata": {},
   "source": [
    "##Gaussian Blur / Smoothening"
   ]
  },
  {
   "cell_type": "code",
   "execution_count": 374,
   "metadata": {
    "collapsed": false
   },
   "outputs": [
    {
     "data": {
      "image/png": "[encoded data removed]",
      "text/plain": [
       "<matplotlib.figure.Figure at 0xe920390>"
      ]
     },
     "metadata": {},
     "output_type": "display_data"
    }
   ],
   "source": [
    "def gaussian_filter(self,image) : \n",
    "    kernel = [273,[[1,4 ,7 ,4 ,1],\n",
    "                [4,16,26,16,4],\n",
    "                [7,26,41,26,7],\n",
    "                [4,16,26,16,4],\n",
    "                [1,4 ,7 ,4 ,1]]]\n",
    "    processed_image = self.convolution(image,kernel)\n",
    "    return processed_image\n",
    "\n",
    "image_processing.gaussian_filter = gaussian_filter\n",
    "impr = image_processing()\n",
    "im = impr.gaussian_filter(image)\n",
    "display(im)"
   ]
  },
  {
   "cell_type": "markdown",
   "metadata": {},
   "source": [
    "## Full convolution"
   ]
  },
  {
   "cell_type": "code",
   "execution_count": 375,
   "metadata": {
    "collapsed": true
   },
   "outputs": [],
   "source": [
    "def full_convolution(self,image,*args):\n",
    "    all_kernels = list(args)\n",
    "#     print(all_kernels)\n",
    "\n",
    "    image_width = len(image[0])\n",
    "    image_height = len(image)\n",
    "    \n",
    "    \n",
    "    def element_wise_matrix_multiplication(matrix1,matrix2,scaling_factor=1) :\n",
    "        return_value = 0\n",
    "        for m1_row,m2_row in zip(matrix1,matrix2) :\n",
    "            for m1_pixel,m2_pixel in zip(m1_row,m2_row) :\n",
    "                return_value += int(m1_pixel)*int(m2_pixel)\n",
    "        return np.uint8(return_value/scaling_factor)\n",
    "    \n",
    "    def slice_and_multiply(image,kernel,scaling_factor):\n",
    "        \n",
    "        [kernel_width,kernel_height] = [len(kernel[0]),len(kernel)]\n",
    "        \n",
    "        return_image = []\n",
    "        for row in range(image_height - kernel_height + 1) :\n",
    "            return_image.append([])\n",
    "            for pixel in range(image_width - kernel_width + 1) :\n",
    "                image_slice = [[image[i,j] for j in range(pixel,pixel + kernel_width)] for i in range(row,row + kernel_height)]\n",
    "                #print(image_slice)\n",
    "                return_image[-1].append(element_wise_matrix_multiplication(image_slice,kernel,scaling_factor))\n",
    "        return np.array(return_image)\n",
    "    \n",
    "    def slice_and_multiply_together(image,all_kernels):\n",
    "        full_kernel = all_kernels[1]\n",
    "        kernel = full_kernel[1]\n",
    "        [kernel_width,kernel_height] = [len(kernel[0]),len(kernel)]\n",
    "        \n",
    "        return_image = []\n",
    "        for row in range(image_height - kernel_height + 1) :\n",
    "            return_image.append([])\n",
    "            for pixel in range(image_width - kernel_width + 1) :\n",
    "                image_slice = [[image[i,j] for j in range(pixel,pixel + kernel_width)] for i in range(row,row + kernel_height)]\n",
    "                #print(image_slice)\n",
    "                temp = 0\n",
    "                for full_kernel in all_kernels:\n",
    "                    kernel = full_kernel[1]\n",
    "                    temp = np.uint8(temp|element_wise_matrix_multiplication(image_slice,kernel,full_kernel[0]))\n",
    "                return_image[-1].append(temp)\n",
    "        return np.array(return_image)\n",
    "    \n",
    "    full_kernel = all_kernels[0]\n",
    "    \n",
    "    kernel = full_kernel[1]\n",
    "\n",
    "#     kernel_width = len(kernel[0])\n",
    "#     kernel_height = len(kernel)\n",
    "  \n",
    "    kernel_specs = [len(kernel[0]),len(kernel)]                                #[kernel_width,kernel_height]\n",
    "    \n",
    "    if(len(all_kernels) >1):\n",
    "        for full_kernel in all_kernels[1:]:\n",
    "            kernel = full_kernel[1]\n",
    "            kernel_specs_ = [len(kernel[0]),len(kernel)]                        #[kernel_width,kernel_height]\n",
    "            if(kernel_specs == kernel_specs_):\n",
    "                flag = 1\n",
    "#                 print (\"flag recvd 1\")\n",
    "            else:\n",
    "                flag = 0\n",
    "#                 print (\"flag recvd 0\")\n",
    "                break\n",
    "        if flag == 0:\n",
    "#             print (\"entering one-kernel-at-a-time mode\")\n",
    "            temp = []\n",
    "            for full_kernel in all_kernels:\n",
    "#                 print(full_kernel)\n",
    "#                 print(full_kernel[1])\n",
    "                im = slice_and_multiply(image,full_kernel[1],full_kernel[0])      #image, kernel, scaling_factor\n",
    "#                 print(\"----\")\n",
    "                temp.append(im)\n",
    "            return(temp)\n",
    "        if flag ==1:\n",
    "#             print(\"entering all-kernels-together-mode\")\n",
    "            im = slice_and_multiply_together(image,all_kernels)       #image, all_kernels\n",
    "            return(im)\n",
    "    else:\n",
    "#         print(\"just 1 kernel\")\n",
    "        return slice_and_multiply(image,full_kernel[1],full_kernel[0])             #image, kernel, scaling_factor\n",
    "\n",
    "image_processing.full_convolution = full_convolution"
   ]
  },
  {
   "cell_type": "markdown",
   "metadata": {},
   "source": [
    "#Other variants for using Full convolution:-"
   ]
  },
  {
   "cell_type": "markdown",
   "metadata": {},
   "source": [
    "#vertical_edge_full_convolution"
   ]
  },
  {
   "cell_type": "code",
   "execution_count": 376,
   "metadata": {
    "collapsed": false
   },
   "outputs": [
    {
     "data": {
      "image/png": "[encoded data removed]",
      "text/plain": [
       "<matplotlib.figure.Figure at 0xcb22cf8>"
      ]
     },
     "metadata": {},
     "output_type": "display_data"
    }
   ],
   "source": [
    "def vertical_edge_full_convolution(self,image) : \n",
    "    kernel1 = [1,[[-1,0,1],\n",
    "                 [-1,0,1],\n",
    "                 [-1,0,1]]]\n",
    "    kernel2 = [1,[[1,0,-1],\n",
    "                 [1,0,-1],\n",
    "                 [1,0,-1]]]\n",
    "    processed_image = self.full_convolution(image,kernel1,kernel2)\n",
    "    return processed_image\n",
    "\n",
    "image_processing.vertical_edge_full_convolution = vertical_edge_full_convolution\n",
    "\n",
    "impr = image_processing()\n",
    "im = impr.vertical_edge_full_convolution(image)\n",
    "display(im)"
   ]
  },
  {
   "cell_type": "markdown",
   "metadata": {},
   "source": [
    "#horizontal_edge_full_convolution"
   ]
  },
  {
   "cell_type": "code",
   "execution_count": 377,
   "metadata": {
    "collapsed": false
   },
   "outputs": [
    {
     "data": {
      "image/png": "[encoded data removed]",
      "text/plain": [
       "<matplotlib.figure.Figure at 0x11844208>"
      ]
     },
     "metadata": {},
     "output_type": "display_data"
    }
   ],
   "source": [
    "def horizontal_edge_full_convolution(self,image) : \n",
    "    kernel1 = [1,[[-1,-1,-1],\n",
    "                 [0,0,0],\n",
    "                 [1,1,1]]]\n",
    "    kernel2 = [1,[[1,1,1],\n",
    "                 [0,0,0],\n",
    "                 [-1,-1,-1]]]\n",
    "    processed_image = self.full_convolution(image,kernel1,kernel2)\n",
    "    return processed_image\n",
    "\n",
    "image_processing.horizontal_edge_full_convolution = horizontal_edge_full_convolution\n",
    "\n",
    "impr = image_processing()\n",
    "im  = impr.horizontal_edge_full_convolution(image)\n",
    "display(im)"
   ]
  },
  {
   "cell_type": "markdown",
   "metadata": {},
   "source": [
    "#complete_edge_full_convolution"
   ]
  },
  {
   "cell_type": "code",
   "execution_count": 378,
   "metadata": {
    "collapsed": false
   },
   "outputs": [
    {
     "data": {
      "image/png": "[encoded data removed]",
      "text/plain": [
       "<matplotlib.figure.Figure at 0x115d1710>"
      ]
     },
     "metadata": {},
     "output_type": "display_data"
    }
   ],
   "source": [
    "def complete_edge_full_convolution(self,image) : \n",
    "    kernel1 = [1,[[-1,0,1],\n",
    "                 [-1,0,1],\n",
    "                 [-1,0,1]]]\n",
    "    kernel2 = [1,[[1,0,-1],\n",
    "                 [1,0,-1],\n",
    "                 [1,0,-1]]]\n",
    "    kernel3 = [1,[[-1,-1,-1],\n",
    "                 [0,0,0],\n",
    "                 [1,1,1]]]\n",
    "    kernel4 = [1,[[1,1,1],\n",
    "                 [0,0,0],\n",
    "                 [-1,-1,-1]]]\n",
    "    processed_image = self.full_convolution(image,kernel1,kernel2,kernel3,kernel4)\n",
    "    return processed_image\n",
    "\n",
    "image_processing.complete_edge_full_convolution = complete_edge_full_convolution\n",
    "\n",
    "impr = image_processing()\n",
    "im = impr.complete_edge_full_convolution(image)\n",
    "display(im)"
   ]
  },
  {
   "cell_type": "code",
   "execution_count": null,
   "metadata": {
    "collapsed": true
   },
   "outputs": [],
   "source": []
  }
 ],
 "metadata": {
  "kernelspec": {
   "display_name": "Python 2",
   "language": "python",
   "name": "python2"
  },
  "language_info": {
   "codemirror_mode": {
    "name": "ipython",
    "version": 2
   },
   "file_extension": ".py",
   "mimetype": "text/x-python",
   "name": "python",
   "nbconvert_exporter": "python",
   "pygments_lexer": "ipython2",
   "version": "2.7.10"
  }
 },
 "nbformat": 4,
 "nbformat_minor": 0
}
