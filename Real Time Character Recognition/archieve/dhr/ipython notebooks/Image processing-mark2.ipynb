{
 "cells": [
  {
   "cell_type": "markdown",
   "metadata": {},
   "source": [
    "##System check"
   ]
  },
  {
   "cell_type": "code",
   "execution_count": 342,
   "metadata": {
    "collapsed": false
   },
   "outputs": [],
   "source": [
    "import sys\n",
    "osx = sys.platform"
   ]
  },
  {
   "cell_type": "markdown",
   "metadata": {},
   "source": [
    "##Directory change"
   ]
  },
  {
   "cell_type": "code",
   "execution_count": 343,
   "metadata": {
    "collapsed": false
   },
   "outputs": [
    {
     "data": {
      "text/plain": [
       "'C:\\\\Users\\\\dhrre\\\\Desktop\\\\Projects\\\\Handwriting_recognition_using_neural_nets_on_FPGA\\\\Image processing'"
      ]
     },
     "execution_count": 343,
     "metadata": {},
     "output_type": "execute_result"
    }
   ],
   "source": [
    "import os\n",
    "if(osx == \"win32\"):\n",
    "    os.chdir('C:\\Users\\dhrre\\Desktop\\Projects\\Handwriting_recognition_using_neural_nets_on_FPGA\\Image processing')\n",
    "else:\n",
    "    print(\"OSX ERROR\")\n",
    "os.getcwd()"
   ]
  },
  {
   "cell_type": "markdown",
   "metadata": {},
   "source": [
    "##Imports and setup"
   ]
  },
  {
   "cell_type": "code",
   "execution_count": 379,
   "metadata": {
    "collapsed": true
   },
   "outputs": [],
   "source": [
    "import numpy as np\n",
    "from IPython.display import Image\n",
    "import matplotlib\n",
    "from matplotlib.pyplot import imshow\n",
    "from PIL import Image\n",
    "import copy"
   ]
  },
  {
   "cell_type": "markdown",
   "metadata": {},
   "source": [
    "##Class=> image_processing"
   ]
  },
  {
   "cell_type": "code",
   "execution_count": 345,
   "metadata": {
    "collapsed": true
   },
   "outputs": [],
   "source": [
    "class image_processing() : \n",
    "    \n",
    "    def __init__(self) : \n",
    "        pass\n",
    "    \n",
    "    def convolution(self,image,kernel) : \n",
    "        scaling_factor = kernel[0]\n",
    "        kernel = kernel[1]\n",
    "        image_width = len(image[0])\n",
    "        image_height = len(image)\n",
    "        kernel_width = len(kernel[0])\n",
    "        kernel_height = len(kernel)\n",
    "\n",
    "        return_image = []\n",
    "\n",
    "        def element_wise_matrix_multiplication(matrix1,matrix2,scaling_factor=1) :\n",
    "            return_value = 0\n",
    "            for m1_row,m2_row in zip(matrix1,matrix2) :\n",
    "                for m1_pixel,m2_pixel in zip(m1_row,m2_row) :\n",
    "                    return_value += int(m1_pixel)*int(m2_pixel)\n",
    "            return np.uint8(return_value/scaling_factor)\n",
    "                \n",
    "        for row in range(image_height - kernel_height + 1) :\n",
    "            return_image.append([])\n",
    "            for pixel in range(image_width - kernel_width + 1) :\n",
    "                image_slice = [[image[i,j] for j in range(pixel,pixel + kernel_width)] for i in range(row,row + kernel_height)]\n",
    "                #print(image_slice)\n",
    "                return_image[-1].append(element_wise_matrix_multiplication(image_slice,kernel,scaling_factor))\n",
    "        return np.array(return_image)\n",
    "    \n",
    "    def rgb_to_greyscale(self,image) : \n",
    "        return_image = []\n",
    "        for row in image : \n",
    "            return_image.append([])\n",
    "            for pixel in row :\n",
    "                try:\n",
    "                    [r,g,b,s] = pixel\n",
    "                except ValueError:\n",
    "                    [r,g,b] = pixel\n",
    "                return_image[-1].append(np.uint8((int(r)+int(g)+int(b))/3))\n",
    "        return np.array(return_image)"
   ]
  },
  {
   "cell_type": "markdown",
   "metadata": {},
   "source": [
    "##Display function"
   ]
  },
  {
   "cell_type": "code",
   "execution_count": 346,
   "metadata": {
    "collapsed": true
   },
   "outputs": [],
   "source": [
    "def display(image) : \n",
    "    if type(image) is type([]) : \n",
    "#         print(image)\n",
    "#         print(type(image))\n",
    "        i = len(image)*100 + 11\n",
    "        for images in image:\n",
    "            matplotlib.pyplot.subplot(i)\n",
    "            imshow(images,cmap=matplotlib.pyplot.get_cmap('gray'))\n",
    "            i = i+1\n",
    "    else : \n",
    "        % matplotlib inline\n",
    "        imshow(image,cmap=matplotlib.pyplot.get_cmap('gray'))"
   ]
  },
  {
   "cell_type": "markdown",
   "metadata": {},
   "source": [
    "##Original Image Display"
   ]
  },
  {
   "cell_type": "code",
   "execution_count": 384,
   "metadata": {
    "collapsed": false
   },
   "outputs": [
    {
     "data": {
      "image/png": "[encoded data removed]",
      "text/plain": [
       "<matplotlib.figure.Figure at 0xd5fbda0>"
      ]
     },
     "metadata": {},
     "output_type": "display_data"
    }
   ],
   "source": [
    "image = np.array(Image.open('sample images/sample_image3.jpg')) \n",
    "\n",
    "#imshow(image,cmap=matplotlib.pyplot.get_cmap('grey'))\n",
    "impr = image_processing()\n",
    "image = impr.rgb_to_greyscale(image)\n",
    "\n",
    "display(image)\n"
   ]
  },
  {
   "cell_type": "markdown",
   "metadata": {},
   "source": [
    "##Smoothened Image Display"
   ]
  },
  {
   "cell_type": "code",
   "execution_count": 385,
   "metadata": {
    "collapsed": false
   },
   "outputs": [
    {
     "data": {
      "image/png": "[encoded data removed]",
      "text/plain": [
       "<matplotlib.figure.Figure at 0xd2bacf8>"
      ]
     },
     "metadata": {},
     "output_type": "display_data"
    }
   ],
   "source": [
    "def gaussian_filter(self,image) : \n",
    "    kernel = [273,[[1,4 ,7 ,4 ,1],\n",
    "                [4,16,26,16,4],\n",
    "                [7,26,41,26,7],\n",
    "                [4,16,26,16,4],\n",
    "                [1,4 ,7 ,4 ,1]]]\n",
    "    processed_image = self.convolution(image,kernel)\n",
    "    return processed_image\n",
    "\n",
    "image_processing.gaussian_filter = gaussian_filter\n",
    "impr = image_processing()\n",
    "im = impr.gaussian_filter(image)\n",
    "display(im)\n",
    "image = im"
   ]
  },
  {
   "cell_type": "markdown",
   "metadata": {},
   "source": [
    "##Vertical Edge Detection (Only detects black to white without smoothening filter)"
   ]
  },
  {
   "cell_type": "code",
   "execution_count": 349,
   "metadata": {
    "collapsed": false
   },
   "outputs": [
    {
     "data": {
      "image/png": "[encoded data removed]",
      "text/plain": [
       "<matplotlib.figure.Figure at 0xc2a46d8>"
      ]
     },
     "metadata": {},
     "output_type": "display_data"
    }
   ],
   "source": [
    "def vertical_edge_detection(self,image) : \n",
    "    kernel = [1,[[-1,0,1],\n",
    "                 [-1,0,1],\n",
    "                 [-1,0,1]]]\n",
    "    processed_image = self.convolution(image,kernel)\n",
    "    return processed_image\n",
    "    \n",
    "image_processing.vertical_edge_detection = vertical_edge_detection\n",
    "impr = image_processing()\n",
    "im = impr.vertical_edge_detection(image)\n",
    "display(im)"
   ]
  },
  {
   "cell_type": "markdown",
   "metadata": {},
   "source": [
    "##Horizontal Edge Detection (Only detects black to white without smoothening filter)"
   ]
  },
  {
   "cell_type": "code",
   "execution_count": 350,
   "metadata": {
    "collapsed": false
   },
   "outputs": [
    {
     "data": {
      "image/png": "[encoded data removed]",
      "text/plain": [
       "<matplotlib.figure.Figure at 0xa9e5dd8>"
      ]
     },
     "metadata": {},
     "output_type": "display_data"
    }
   ],
   "source": [
    "def horizontal_edge_detection(self,image) : \n",
    "    kernel = [1,[[-1,-1,-1],\n",
    "                 [ 0, 0, 0],\n",
    "                 [ 1, 1, 1]]]\n",
    "    processed_image = self.convolution(image,kernel)\n",
    "    return processed_image\n",
    "    \n",
    "image_processing.horizontal_edge_detection = horizontal_edge_detection\n",
    "impr = image_processing()\n",
    "im = impr.horizontal_edge_detection(image)\n",
    "display(im)"
   ]
  },
  {
   "cell_type": "markdown",
   "metadata": {},
   "source": [
    "##Horizontal plus Vertical Edge Detection (Only detects black to white without smoothening filter)"
   ]
  },
  {
   "cell_type": "code",
   "execution_count": 351,
   "metadata": {
    "collapsed": false
   },
   "outputs": [
    {
     "data": {
      "image/png": "[encoded data removed]",
      "text/plain": [
       "<matplotlib.figure.Figure at 0xd7edc88>"
      ]
     },
     "metadata": {},
     "output_type": "display_data"
    }
   ],
   "source": [
    "def horizontal_plus_vertical_edge_detection(self,image) :\n",
    "    horizontal = self.horizontal_edge_detection(image)\n",
    "    vertical = self.vertical_edge_detection(image)\n",
    "    rows = len(horizontal)\n",
    "    columns = len(horizontal[0])\n",
    "    \n",
    "    return_array = []\n",
    "    for i in range(rows) :\n",
    "        return_array.append([])\n",
    "        for j in range(columns) : \n",
    "            return_array[-1].append(np.uint8(int(horizontal[i,j]) + int(vertical[i,j])))\n",
    "    return np.array(return_array)\n",
    "\n",
    "image_processing.horizontal_plus_vertical_edge_detection = horizontal_plus_vertical_edge_detection\n",
    "impr = image_processing()\n",
    "im = Image.fromarray(impr.horizontal_plus_vertical_edge_detection(image))\n",
    "display(im)"
   ]
  },
  {
   "cell_type": "markdown",
   "metadata": {},
   "source": [
    "##Gaussian Blur / Smoothening"
   ]
  },
  {
   "cell_type": "code",
   "execution_count": 352,
   "metadata": {
    "collapsed": false
   },
   "outputs": [
    {
     "data": {
      "image/png": "[encoded data removed]",
      "text/plain": [
       "<matplotlib.figure.Figure at 0xa62b5c0>"
      ]
     },
     "metadata": {},
     "output_type": "display_data"
    }
   ],
   "source": [
    "def gaussian_filter(self,image) : \n",
    "    kernel = [273,[[1,4 ,7 ,4 ,1],\n",
    "                [4,16,26,16,4],\n",
    "                [7,26,41,26,7],\n",
    "                [4,16,26,16,4],\n",
    "                [1,4 ,7 ,4 ,1]]]\n",
    "    processed_image = self.convolution(image,kernel)\n",
    "    return processed_image\n",
    "\n",
    "image_processing.gaussian_filter = gaussian_filter\n",
    "impr = image_processing()\n",
    "im = impr.gaussian_filter(image)\n",
    "display(im)"
   ]
  },
  {
   "cell_type": "markdown",
   "metadata": {},
   "source": [
    "## Full convolution"
   ]
  },
  {
   "cell_type": "code",
   "execution_count": 386,
   "metadata": {
    "collapsed": true
   },
   "outputs": [],
   "source": [
    "def full_convolution(self,image,*args):\n",
    "    all_kernels = list(args)\n",
    "#     print(all_kernels)\n",
    "\n",
    "    image_width = len(image[0])\n",
    "    image_height = len(image)\n",
    "    \n",
    "    \n",
    "    def element_wise_matrix_multiplication(matrix1,matrix2,scaling_factor=1) :\n",
    "        return_value = 0\n",
    "        for m1_row,m2_row in zip(matrix1,matrix2) :\n",
    "            for m1_pixel,m2_pixel in zip(m1_row,m2_row) :\n",
    "                return_value += int(m1_pixel)*int(m2_pixel)\n",
    "        return np.uint8(return_value/scaling_factor)\n",
    "    \n",
    "    def slice_and_multiply(image,kernel,scaling_factor):\n",
    "        \n",
    "        [kernel_width,kernel_height] = [len(kernel[0]),len(kernel)]\n",
    "        \n",
    "        return_image = []\n",
    "        for row in range(image_height - kernel_height + 1) :\n",
    "            return_image.append([])\n",
    "            for pixel in range(image_width - kernel_width + 1) :\n",
    "                image_slice = [[image[i,j] for j in range(pixel,pixel + kernel_width)] for i in range(row,row + kernel_height)]\n",
    "                #print(image_slice)\n",
    "                return_image[-1].append(element_wise_matrix_multiplication(image_slice,kernel,scaling_factor))\n",
    "        return np.array(return_image)\n",
    "    \n",
    "    def slice_and_multiply_together(image,all_kernels):\n",
    "        full_kernel = all_kernels[1]\n",
    "        kernel = full_kernel[1]\n",
    "        [kernel_width,kernel_height] = [len(kernel[0]),len(kernel)]\n",
    "        \n",
    "        return_image = []\n",
    "        for row in range(image_height - kernel_height + 1) :\n",
    "            return_image.append([])\n",
    "            for pixel in range(image_width - kernel_width + 1) :\n",
    "                image_slice = [[image[i,j] for j in range(pixel,pixel + kernel_width)] for i in range(row,row + kernel_height)]\n",
    "                #print(image_slice)\n",
    "                temp = 0\n",
    "                for full_kernel in all_kernels:\n",
    "                    kernel = full_kernel[1]\n",
    "                    temp = np.uint8(temp|element_wise_matrix_multiplication(image_slice,kernel,full_kernel[0]))\n",
    "                return_image[-1].append(temp)\n",
    "        return np.array(return_image)\n",
    "    \n",
    "    full_kernel = all_kernels[0]\n",
    "    \n",
    "    kernel = full_kernel[1]\n",
    "\n",
    "#     kernel_width = len(kernel[0])\n",
    "#     kernel_height = len(kernel)\n",
    "  \n",
    "    kernel_specs = [len(kernel[0]),len(kernel)]                                #[kernel_width,kernel_height]\n",
    "    \n",
    "    if(len(all_kernels) >1):\n",
    "        for full_kernel in all_kernels[1:]:\n",
    "            kernel = full_kernel[1]\n",
    "            kernel_specs_ = [len(kernel[0]),len(kernel)]                        #[kernel_width,kernel_height]\n",
    "            if(kernel_specs == kernel_specs_):\n",
    "                flag = 1\n",
    "#                 print (\"flag recvd 1\")\n",
    "            else:\n",
    "                flag = 0\n",
    "#                 print (\"flag recvd 0\")\n",
    "                break\n",
    "        if flag == 0:\n",
    "#             print (\"entering one-kernel-at-a-time mode\")\n",
    "            temp = []\n",
    "            for full_kernel in all_kernels:\n",
    "#                 print(full_kernel)\n",
    "#                 print(full_kernel[1])\n",
    "                im = slice_and_multiply(image,full_kernel[1],full_kernel[0])      #image, kernel, scaling_factor\n",
    "#                 print(\"----\")\n",
    "                temp.append(im)\n",
    "            return(temp)\n",
    "        if flag ==1:\n",
    "#             print(\"entering all-kernels-together-mode\")\n",
    "            im = slice_and_multiply_together(image,all_kernels)       #image, all_kernels\n",
    "            return(im)\n",
    "    else:\n",
    "#         print(\"just 1 kernel\")\n",
    "        return slice_and_multiply(image,full_kernel[1],full_kernel[0])             #image, kernel, scaling_factor\n",
    "\n",
    "image_processing.full_convolution = full_convolution"
   ]
  },
  {
   "cell_type": "markdown",
   "metadata": {},
   "source": [
    "#Other variants for using Full convolution:-"
   ]
  },
  {
   "cell_type": "markdown",
   "metadata": {},
   "source": [
    "#vertical_edge_full_convolution"
   ]
  },
  {
   "cell_type": "code",
   "execution_count": 354,
   "metadata": {
    "collapsed": false
   },
   "outputs": [
    {
     "data": {
      "image/png": "[encoded data removed]",
      "text/plain": [
       "<matplotlib.figure.Figure at 0xbc01518>"
      ]
     },
     "metadata": {},
     "output_type": "display_data"
    }
   ],
   "source": [
    "def vertical_edge_full_convolution(self,image) : \n",
    "    kernel1 = [1,[[-1,0,1],\n",
    "                 [-1,0,1],\n",
    "                 [-1,0,1]]]\n",
    "    kernel2 = [1,[[1,0,-1],\n",
    "                 [1,0,-1],\n",
    "                 [1,0,-1]]]\n",
    "    processed_image = self.full_convolution(image,kernel1,kernel2)\n",
    "    return processed_image\n",
    "\n",
    "image_processing.vertical_edge_full_convolution = vertical_edge_full_convolution\n",
    "\n",
    "impr = image_processing()\n",
    "im = impr.vertical_edge_full_convolution(image)\n",
    "display(im)"
   ]
  },
  {
   "cell_type": "markdown",
   "metadata": {},
   "source": [
    "#horizontal_edge_full_convolution"
   ]
  },
  {
   "cell_type": "code",
   "execution_count": 355,
   "metadata": {
    "collapsed": false
   },
   "outputs": [
    {
     "data": {
      "image/png": "[encoded data removed]",
      "text/plain": [
       "<matplotlib.figure.Figure at 0xb84aac8>"
      ]
     },
     "metadata": {},
     "output_type": "display_data"
    }
   ],
   "source": [
    "def horizontal_edge_full_convolution(self,image) : \n",
    "    kernel1 = [1,[[-1,-1,-1],\n",
    "                 [0,0,0],\n",
    "                 [1,1,1]]]\n",
    "    kernel2 = [1,[[1,1,1],\n",
    "                 [0,0,0],\n",
    "                 [-1,-1,-1]]]\n",
    "    processed_image = self.full_convolution(image,kernel1,kernel2)\n",
    "    return processed_image\n",
    "\n",
    "image_processing.horizontal_edge_full_convolution = horizontal_edge_full_convolution\n",
    "\n",
    "impr = image_processing()\n",
    "im  = impr.horizontal_edge_full_convolution(image)\n",
    "display(im)"
   ]
  },
  {
   "cell_type": "markdown",
   "metadata": {},
   "source": [
    "#complete_edge_full_convolution"
   ]
  },
  {
   "cell_type": "code",
   "execution_count": 387,
   "metadata": {
    "collapsed": false
   },
   "outputs": [
    {
     "data": {
      "image/png": "[encoded data removed]",
      "text/plain": [
       "<matplotlib.figure.Figure at 0xa62f828>"
      ]
     },
     "metadata": {},
     "output_type": "display_data"
    }
   ],
   "source": [
    "def complete_edge_full_convolution(self,image) : \n",
    "    kernel1 = [1,[[-1,0,1],\n",
    "                 [-1,0,1],\n",
    "                 [-1,0,1]]]\n",
    "    kernel2 = [1,[[1,0,-1],\n",
    "                 [1,0,-1],\n",
    "                 [1,0,-1]]]\n",
    "    kernel3 = [1,[[-1,-1,-1],\n",
    "                 [0,0,0],\n",
    "                 [1,1,1]]]\n",
    "    kernel4 = [1,[[1,1,1],\n",
    "                 [0,0,0],\n",
    "                 [-1,-1,-1]]]\n",
    "    processed_image = self.full_convolution(image,kernel1,kernel2,kernel3,kernel4)\n",
    "    return processed_image\n",
    "\n",
    "image_processing.complete_edge_full_convolution = complete_edge_full_convolution\n",
    "\n",
    "impr = image_processing()\n",
    "im = impr.complete_edge_full_convolution(image)\n",
    "display(im)"
   ]
  },
  {
   "cell_type": "code",
   "execution_count": 388,
   "metadata": {
    "collapsed": false
   },
   "outputs": [],
   "source": [
    "image = im\n",
    "im = image"
   ]
  },
  {
   "cell_type": "markdown",
   "metadata": {
    "collapsed": true
   },
   "source": [
    "#Segmentation:"
   ]
  },
  {
   "cell_type": "markdown",
   "metadata": {},
   "source": [
    "##Transpose Function"
   ]
  },
  {
   "cell_type": "code",
   "execution_count": 358,
   "metadata": {
    "collapsed": true
   },
   "outputs": [],
   "source": [
    "def transpose(image):\n",
    "    temp = []\n",
    "    for i in range(len(image[0])):\n",
    "        temp.append([])\n",
    "        for j in range(len(image)):\n",
    "            temp[-1].append(image[j][i])\n",
    "    return np.array(temp)"
   ]
  },
  {
   "cell_type": "code",
   "execution_count": 359,
   "metadata": {
    "collapsed": true
   },
   "outputs": [],
   "source": [
    "##TEMPORARY\n",
    "def print_(ch):\n",
    "    for val in ch:\n",
    "        print(val)"
   ]
  },
  {
   "cell_type": "code",
   "execution_count": 360,
   "metadata": {
    "collapsed": false
   },
   "outputs": [
    {
     "name": "stdout",
     "output_type": "stream",
     "text": [
      "[1, 1, 1, 1]\n",
      "[1, 1, 1, 1]\n",
      "[1, 0, 0, 1]\n",
      "[1, 1, 1, 1]\n"
     ]
    }
   ],
   "source": [
    "##TEMPORARY\n",
    "pi = [[1,1,1,1],[1,1,1,1],[1,0,0,1],[1,1,1,1]]\n",
    "print_(pi)"
   ]
  },
  {
   "cell_type": "markdown",
   "metadata": {},
   "source": [
    "##Check_row_for_obstruction function"
   ]
  },
  {
   "cell_type": "code",
   "execution_count": 361,
   "metadata": {
    "collapsed": true
   },
   "outputs": [],
   "source": [
    "def check_row_for_obstruction(im,row,mode=1):\n",
    "    im_slice = im[row]\n",
    "    k = im_slice[0]\n",
    "    for i in range(1,len(im_slice)):\n",
    "        if(k != im_slice[i]):\n",
    "            return (mode==1)\n",
    "    else:\n",
    "        return (mode!=1)"
   ]
  },
  {
   "cell_type": "markdown",
   "metadata": {},
   "source": [
    "##Sweep function"
   ]
  },
  {
   "cell_type": "code",
   "execution_count": 416,
   "metadata": {
    "collapsed": true
   },
   "outputs": [],
   "source": [
    "def sweep(image,image_,mode,x1=0):\n",
    "    if(mode==1):   #Right to left sweep\n",
    "        for i in range(len(image_)):\n",
    "            if(check_row_for_obstruction(image_,i)):\n",
    "                break\n",
    "        else:\n",
    "            return True   ## Returns true to show scanning is complete without any obstacles\n",
    "        return i\n",
    "    if(mode==2):   #Up to down sweep\n",
    "        for i in range(len(image)):\n",
    "            if(check_row_for_obstruction(image,i)):\n",
    "                break\n",
    "        else:\n",
    "            print(\"thenga 2\")\n",
    "        return i\n",
    "    if(mode==3):   #Down to up sweep\n",
    "        for i in range(len(image)):\n",
    "            if(check_row_for_obstruction(image,len(image)-1-i)):\n",
    "                break\n",
    "        else:\n",
    "            print(\"thenga 3\")\n",
    "        return len(image)-1-i\n",
    "    if(mode==4):   #Left to right sweep\n",
    "        for i in range(x1,len(image_)):\n",
    "            if(check_row_for_obstruction(image_,i,2)):\n",
    "                break\n",
    "        else:\n",
    "            print(\"thenga 4\")\n",
    "        return i-1\n",
    "    "
   ]
  },
  {
   "cell_type": "markdown",
   "metadata": {},
   "source": [
    "##Crop_out function"
   ]
  },
  {
   "cell_type": "code",
   "execution_count": 417,
   "metadata": {
    "collapsed": false
   },
   "outputs": [],
   "source": [
    "def crop_out(image,obj_dim):\n",
    "    border = 20\n",
    "    obj_dim = [obj_dim[0]-border,obj_dim[1]+border,obj_dim[2]-border,obj_dim[3]+border]\n",
    "#     print(obj_dim)\n",
    "    obj_dim = [max(0,x) for x in obj_dim]\n",
    "#     print(obj_dim)\n",
    "    letter_image = image[obj_dim[2]:obj_dim[3]]\n",
    "    letter_image = np.array([row[obj_dim[0]:obj_dim[1]] for row in letter_image])\n",
    "    edited_image = copy.deepcopy(image)\n",
    "    for i in range(obj_dim[0],obj_dim[1]):\n",
    "        for j in range(obj_dim[2],obj_dim[3]):\n",
    "            edited_image[j][i] = 0\n",
    "    edited_image = np.array(edited_image)\n",
    "    display(edited_image)\n",
    "    return ([letter_image,edited_image])\n",
    "\n",
    "# t = crop_out(image,[98,242,141,347])"
   ]
  },
  {
   "cell_type": "markdown",
   "metadata": {},
   "source": [
    "##Scan_and_crop function"
   ]
  },
  {
   "cell_type": "code",
   "execution_count": 418,
   "metadata": {
    "collapsed": false
   },
   "outputs": [],
   "source": [
    "def scan_and_crop(image):\n",
    "    image_ = transpose(image)\n",
    "    x1 = sweep(image,image_,1)\n",
    "    x2 = sweep(image,image_,4,x1)\n",
    "    y1 = sweep(image,image_,2)\n",
    "    y2 = sweep(image,image_,3)\n",
    "    print(\"cropped values are:\")\n",
    "    print(x1,x2,y1,y2)\n",
    "    object_dimensions = [x1,x2,y1,y2]\n",
    "    return crop_out(image,object_dimensions)"
   ]
  },
  {
   "cell_type": "markdown",
   "metadata": {},
   "source": [
    "##Check_for_object function"
   ]
  },
  {
   "cell_type": "code",
   "execution_count": 419,
   "metadata": {
    "collapsed": false
   },
   "outputs": [],
   "source": [
    "def check_for_object(im):\n",
    "    im_ = transpose(im)\n",
    "    if(sweep(im,im_,1) == True): ##Means no object found\n",
    "        return False\n",
    "    else:\n",
    "        return True\n",
    "    "
   ]
  },
  {
   "cell_type": "markdown",
   "metadata": {},
   "source": [
    "##Image_array_creator"
   ]
  },
  {
   "cell_type": "code",
   "execution_count": 422,
   "metadata": {
    "collapsed": false
   },
   "outputs": [
    {
     "name": "stdout",
     "output_type": "stream",
     "text": [
      "cropped values are:\n",
      "(98, 242, 141, 347)\n",
      "cropped values are:\n",
      "(308, 481, 141, 347)\n"
     ]
    },
    {
     "data": {
      "image/png": "[encoded data removed]",
      "text/plain": [
       "<matplotlib.figure.Figure at 0x118a7f98>"
      ]
     },
     "metadata": {},
     "output_type": "display_data"
    }
   ],
   "source": [
    "def image_array_creator():\n",
    "    image_array=[]\n",
    "    remaining = copy.deepcopy(image)\n",
    "    while(check_for_object(remaining)):\n",
    "#     for i in range(2):\n",
    "        [cropped,remaining] = scan_and_crop(remaining)\n",
    "        image_array.append(cropped)\n",
    "        \n",
    "    return(image_array)\n",
    "    \n",
    "image_array = image_array_creator()\n",
    "display(image_array)"
   ]
  },
  {
   "cell_type": "code",
   "execution_count": null,
   "metadata": {
    "collapsed": true
   },
   "outputs": [],
   "source": []
  }
 ],
 "metadata": {
  "kernelspec": {
   "display_name": "Python 2",
   "language": "python",
   "name": "python2"
  },
  "language_info": {
   "codemirror_mode": {
    "name": "ipython",
    "version": 2
   },
   "file_extension": ".py",
   "mimetype": "text/x-python",
   "name": "python",
   "nbconvert_exporter": "python",
   "pygments_lexer": "ipython2",
   "version": "2.7.11"
  }
 },
 "nbformat": 4,
 "nbformat_minor": 0
}
