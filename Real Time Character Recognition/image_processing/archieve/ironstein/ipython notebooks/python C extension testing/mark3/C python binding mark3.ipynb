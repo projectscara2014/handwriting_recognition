{
 "cells": [
  {
   "cell_type": "code",
   "execution_count": 39,
   "metadata": {
    "collapsed": false
   },
   "outputs": [],
   "source": [
    "working_directory = '/users/ironstein/documents/projects working directory/handwriting_recognition_using_neural_networks_on_FPGA_final_year project/image processing/ipython notebooks/python C extension testing/mark3'\n",
    "working_directory = '/users/ironstein/Documents/projects_working_directory/handwriting_recognition/image_processing/ipython notebooks/python C extension testing/mark3'\n",
    "import os\n",
    "import time\n",
    "import graphlab as gl\n",
    "\n",
    "os.chdir(working_directory)"
   ]
  },
  {
   "cell_type": "code",
   "execution_count": 40,
   "metadata": {
    "collapsed": false,
    "scrolled": true
   },
   "outputs": [
    {
     "name": "stdout",
     "output_type": "stream",
     "text": [
      "Overwriting test.c\n"
     ]
    }
   ],
   "source": [
    "%%file test.c\n",
    "\n",
    "#include <stdio.h>\n",
    "\n",
    "void for_loop_test_without_register_values(int n) {\n",
    "    int i;\n",
    "    int j;\n",
    "    for(i=0;i<n;i++);\n",
    "}\n",
    "\n",
    "void for_loop_test_with_register_values(int n) {\n",
    "    \n",
    "    int var = n;\n",
    "    int i;\n",
    "    int p;     \n",
    "    \n",
    "    for(i=0;i<var;i++){\n",
    "        for(p=0;p<100000000;p++);\n",
    "    }\n",
    "}\n"
   ]
  },
  {
   "cell_type": "markdown",
   "metadata": {},
   "source": [
    "###generating shared object for the above C file (test.so)\n"
   ]
  },
  {
   "cell_type": "code",
   "execution_count": 41,
   "metadata": {
    "collapsed": false
   },
   "outputs": [
    {
     "name": "stdout",
     "output_type": "stream",
     "text": [
      "test.so: Mach-O 64-bit dynamically linked shared library x86_64\r\n"
     ]
    }
   ],
   "source": [
    "os.system('cd ' + working_directory)\n",
    "!clang -c test.c\n",
    "!clang -o test.so -shared test.c\n",
    "!file test.so"
   ]
  },
  {
   "cell_type": "markdown",
   "metadata": {},
   "source": [
    "###python file to access the functions in test.so shared library"
   ]
  },
  {
   "cell_type": "code",
   "execution_count": 42,
   "metadata": {
    "collapsed": false
   },
   "outputs": [
    {
     "name": "stdout",
     "output_type": "stream",
     "text": [
      "Overwriting _test.py\n"
     ]
    }
   ],
   "source": [
    "%%file _test.py\n",
    "\n",
    "import numpy\n",
    "import ctypes\n",
    "\n",
    "_test_ = numpy.ctypeslib.load_library('test','.')\n",
    "\n",
    "#specifying the required argument types for each function\n",
    "_test_.for_loop_test_without_register_values.argtypes = [ctypes.c_int]\n",
    "_test_.for_loop_test_without_register_values.restype = ctypes.c_void_p\n",
    "_test_.for_loop_test_with_register_values.argtypes = [ctypes.c_int]\n",
    "_test_.for_loop_test_with_register_values.restype = ctypes.c_void_p\n",
    "\n",
    "def C_for_test_without_register_values(n) : \n",
    "    _test_.for_loop_test_without_register_values(n)\n",
    "    \n",
    "def C_for_test_with_register_values(n) : \n",
    "    _test_.for_loop_test_with_register_values(n)"
   ]
  },
  {
   "cell_type": "code",
   "execution_count": 43,
   "metadata": {
    "collapsed": true
   },
   "outputs": [],
   "source": [
    "def Python_for_test(n) : \n",
    "    for i in range(n) : \n",
    "        pass"
   ]
  },
  {
   "cell_type": "markdown",
   "metadata": {},
   "source": [
    "###decorator for calculating time of execution of a function"
   ]
  },
  {
   "cell_type": "code",
   "execution_count": 44,
   "metadata": {
    "collapsed": true
   },
   "outputs": [],
   "source": [
    "def time_this_function(function) : \n",
    "    try : \n",
    "        time\n",
    "    except : \n",
    "        import time\n",
    "    \n",
    "    def wrapper_function(*args,**kwargs) : \n",
    "        start_time = time.time()\n",
    "        function(*args,**kwargs)\n",
    "        elapsed_time = (time.time() - start_time)*1000\n",
    "#         print(elapsed_time,end=' ms\\n')\n",
    "        return(elapsed_time)\n",
    "        \n",
    "    return wrapper_function"
   ]
  },
  {
   "cell_type": "markdown",
   "metadata": {},
   "source": [
    "###testing Python and C functions for comparing the performance"
   ]
  },
  {
   "cell_type": "code",
   "execution_count": null,
   "metadata": {
    "collapsed": false
   },
   "outputs": [],
   "source": [
    "import _test\n",
    "\n",
    "@time_this_function\n",
    "def C_test_without_register_values(n) : \n",
    "    _test.C_for_test_without_register_values(n)\n",
    "\n",
    "@time_this_function\n",
    "def C_test_with_register_values(n) : \n",
    "    _test.C_for_test_with_register_values\n",
    "    \n",
    "@time_this_function\n",
    "def Python_test(n) : \n",
    "    Python_for_test(n)\n",
    "    \n",
    "# a = C_test_with_register_values(1000)\n",
    "# a"
   ]
  },
  {
   "cell_type": "markdown",
   "metadata": {},
   "source": [
    "###time to compare the difference"
   ]
  },
  {
   "cell_type": "code",
   "execution_count": null,
   "metadata": {
    "collapsed": false
   },
   "outputs": [
    {
     "name": "stdout",
     "output_type": "stream",
     "text": [
      "1\n",
      "10\n",
      "100\n",
      "1000\n",
      "10000\n",
      "100000\n",
      "1000000\n",
      "10000000\n",
      "100000000"
     ]
    }
   ],
   "source": [
    "C_time_array_without_register_values = []\n",
    "C_time_array_with_register_values = []\n",
    "Python_time_array = []\n",
    "count_array = []\n",
    "i = 1\n",
    "\n",
    "while(i <= 100000000) : \n",
    "    print(i)\n",
    "    C_time_array_without_register_values.append(C_test_without_register_values(i))\n",
    "    C_time_array_with_register_values.append(C_test_with_register_values(i))\n",
    "    Python_time_array.append(Python_test(i))\n",
    "    count_array.append(i)\n",
    "    i *= 10"
   ]
  },
  {
   "cell_type": "markdown",
   "metadata": {
    "collapsed": true
   },
   "source": [
    "###generate a CSV (comma seperated values) file for the recorded data, to be used in Graphlab Create"
   ]
  },
  {
   "cell_type": "code",
   "execution_count": null,
   "metadata": {
    "collapsed": false
   },
   "outputs": [],
   "source": [
    "def generate_csv(name='default.csv',**kwargs) : \n",
    "    csv_file = open(name,'w')\n",
    "    \n",
    "    keys = kwargs.keys()\n",
    "    values = kwargs.values()\n",
    "    \n",
    "    for key in keys[:-1] : \n",
    "        csv_file.write(key),\n",
    "        csv_file.write(','),\n",
    "    csv_file.write(keys[-1])\n",
    "    csv_file.write('\\n')\n",
    "\n",
    "    for i in range(len(values[0])) : \n",
    "        for j in range(len(values)-1) : \n",
    "            csv_file.write(str(values[j][i])),\n",
    "            csv_file.write(','),\n",
    "        csv_file.write(str(values[len(values)-1][i]))\n",
    "        csv_file.write('\\n')\n",
    "        \n",
    "    csv_file.close()"
   ]
  },
  {
   "cell_type": "code",
   "execution_count": null,
   "metadata": {
    "collapsed": false,
    "scrolled": false
   },
   "outputs": [],
   "source": [
    "# generate_csv(name='test.csv',c_time_without_register = C_time_array_without_register_values,\\\n",
    "#              c_time_with_register_values = C_time_array_with_register_values,\\\n",
    "#              python_time = Python_time_array,count = count_array)\n",
    "generate_csv(name='test.csv',c_time = C_time_array_without_register_values,\\\n",
    "             python_time = Python_time_array,count = count_array)\n",
    "dataset = gl.SFrame('test.csv')\n",
    "dataset"
   ]
  },
  {
   "cell_type": "code",
   "execution_count": null,
   "metadata": {
    "collapsed": false,
    "scrolled": false
   },
   "outputs": [],
   "source": [
    "gl.canvas.set_target('ipynb')\n",
    "dataset.show(view='Line Chart',y='python_time',x='count')"
   ]
  },
  {
   "cell_type": "code",
   "execution_count": null,
   "metadata": {
    "collapsed": true
   },
   "outputs": [],
   "source": []
  },
  {
   "cell_type": "code",
   "execution_count": null,
   "metadata": {
    "collapsed": true
   },
   "outputs": [],
   "source": []
  }
 ],
 "metadata": {
  "kernelspec": {
   "display_name": "Python 2",
   "language": "python",
   "name": "python2"
  },
  "language_info": {
   "codemirror_mode": {
    "name": "ipython",
    "version": 2
   },
   "file_extension": ".py",
   "mimetype": "text/x-python",
   "name": "python",
   "nbconvert_exporter": "python",
   "pygments_lexer": "ipython2",
   "version": "2.7.10"
  }
 },
 "nbformat": 4,
 "nbformat_minor": 0
}
