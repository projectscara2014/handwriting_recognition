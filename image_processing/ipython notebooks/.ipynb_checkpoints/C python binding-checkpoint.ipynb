{
 "cells": [
  {
   "cell_type": "code",
   "execution_count": 9,
   "metadata": {
    "collapsed": false
   },
   "outputs": [
    {
     "name": "stdout",
     "output_type": "stream",
     "text": [
      "['.DS_Store', '.ipynb_checkpoints', 'c_python_binding_test.c', 'image_processing.ipynb', 'image_processing_mark2.ipynb', 'processed images', 'rana.txt', 'sample images', 'todo.txt', 'Untitled.ipynb']\n"
     ]
    }
   ],
   "source": [
    "import os\n",
    "os.chdir('/users/ironstein/documents/projects working directory/handwriting recognition using neural networks on FPGA final year project/image processing/ipython notebooks')\n",
    "print(os.listdir())\n",
    "from ctypes import *"
   ]
  },
  {
   "cell_type": "code",
   "execution_count": 5,
   "metadata": {
    "collapsed": false
   },
   "outputs": [
    {
     "data": {
      "text/plain": [
       "<bound method LibraryLoader.LoadLibrary of <ctypes.LibraryLoader object at 0x1038212b0>>"
      ]
     },
     "execution_count": 5,
     "metadata": {},
     "output_type": "execute_result"
    }
   ],
   "source": [
    "cdll.LoadLibrary('')"
   ]
  },
  {
   "cell_type": "code",
   "execution_count": null,
   "metadata": {
    "collapsed": true
   },
   "outputs": [],
   "source": []
  }
 ],
 "metadata": {
  "kernelspec": {
   "display_name": "Python 3",
   "language": "python",
   "name": "python3"
  },
  "language_info": {
   "codemirror_mode": {
    "name": "ipython",
    "version": 3
   },
   "file_extension": ".py",
   "mimetype": "text/x-python",
   "name": "python",
   "nbconvert_exporter": "python",
   "pygments_lexer": "ipython3",
   "version": "3.4.3"
  }
 },
 "nbformat": 4,
 "nbformat_minor": 0
}
