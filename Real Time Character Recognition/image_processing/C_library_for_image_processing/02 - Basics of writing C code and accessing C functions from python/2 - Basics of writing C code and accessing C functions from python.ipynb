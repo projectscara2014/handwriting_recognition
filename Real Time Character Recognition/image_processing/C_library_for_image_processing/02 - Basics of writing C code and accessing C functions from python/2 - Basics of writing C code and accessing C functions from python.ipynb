{
 "cells": [
  {
   "cell_type": "markdown",
   "metadata": {},
   "source": [
    "#  setup"
   ]
  },
  {
   "cell_type": "code",
   "execution_count": 1,
   "metadata": {
    "collapsed": false
   },
   "outputs": [
    {
     "name": "stdout",
     "output_type": "stream",
     "text": [
      "Overwriting locate_file.py\n"
     ]
    }
   ],
   "source": [
    "%%file locate_file.py\n",
    "\n",
    "def locate_file() : \n",
    "    working_directory = ''\n",
    "    for element in __file__.split('/')[:-1] :\n",
    "        working_directory += element + '/'\n",
    "    return working_directory"
   ]
  },
  {
   "cell_type": "code",
   "execution_count": 2,
   "metadata": {
    "collapsed": true
   },
   "outputs": [],
   "source": [
    "import locate_file\n",
    "working_directory = locate_file.locate_file()\n",
    "\n",
    "import os\n",
    "os.chdir(working_directory)"
   ]
  },
  {
   "cell_type": "markdown",
   "metadata": {},
   "source": [
    "# convolution.c"
   ]
  },
  {
   "cell_type": "code",
   "execution_count": 3,
   "metadata": {
    "collapsed": false
   },
   "outputs": [
    {
     "name": "stdout",
     "output_type": "stream",
     "text": [
      "Overwriting convolution.c\n"
     ]
    }
   ],
   "source": [
    "%%file convolution.c\n",
    "#import <math.h>\n",
    "#include <stdio.h>\n",
    "\n",
    "void convolution(int *array, int length) {\n",
    "    int i;\n",
    "    for(i=0;i<length;i++){\n",
    "         *(array+i) += 1;\n",
    "    }\n",
    "}"
   ]
  },
  {
   "cell_type": "markdown",
   "metadata": {},
   "source": [
    "# compilation"
   ]
  },
  {
   "cell_type": "code",
   "execution_count": 4,
   "metadata": {
    "collapsed": false
   },
   "outputs": [
    {
     "name": "stdout",
     "output_type": "stream",
     "text": [
      "libconvolution.so: Mach-O 64-bit dynamically linked shared library x86_64\r\n"
     ]
    }
   ],
   "source": [
    "os.system('cd ' + working_directory)\n",
    "!clang -c convolution.c\n",
    "!clang -o libconvolution.so -shared convolution.o\n",
    "!file libconvolution.so"
   ]
  },
  {
   "cell_type": "markdown",
   "metadata": {},
   "source": [
    "# python wrapper module"
   ]
  },
  {
   "cell_type": "code",
   "execution_count": 5,
   "metadata": {
    "collapsed": false
   },
   "outputs": [
    {
     "name": "stdout",
     "output_type": "stream",
     "text": [
      "Overwriting _convolution.py\n"
     ]
    }
   ],
   "source": [
    "%%file _convolution.py\n",
    "import ctypes\n",
    "import numpy\n",
    "import locate_file\n",
    "working_directory = locate_file.locate_file()\n",
    "\n",
    "_convolution_ = ctypes.cdll.LoadLibrary(working_directory + 'libconvolution.so')\n",
    "\n",
    "class image_type() : \n",
    "    \n",
    "    def from_param(self,param) : \n",
    "        typename = type(param).__name__\n",
    "        if hasattr(self,'from_'+typename) : \n",
    "            return getattr(self,'from_'+typename)(param)\n",
    "        elif isinstance(param,ctypes.Array) : \n",
    "            \n",
    "            return param\n",
    "        else : \n",
    "            raise TypeError('type %s not supported' %typename)\n",
    "    \n",
    "    def from_ndarray(self,param) : \n",
    "        c_array = numpy.ascontiguousarray(param)\n",
    "        pointer = c_array.ctypes\n",
    "        return pointer\n",
    "    \n",
    "    def from_list(self,param) : \n",
    "        return self.from_ndarray(param)\n",
    "    \n",
    "    def from_tuple(self,param) : \n",
    "        return self.from_ndarray(param)\n",
    "    \n",
    "image_type_ = image_type()\n",
    "    \n",
    "_convolution_.convolution.argtypes = [image_type_,ctypes.c_int]\n",
    "_convolution_.convolution.restype = ctypes.c_void_p\n",
    "\n",
    "def convolution(array) : \n",
    "    c_array = numpy.ascontiguousarray(array,dtype=numpy.uint32)\n",
    "    _convolution_.convolution(c_array,len(array))\n",
    "    return c_array"
   ]
  },
  {
   "cell_type": "markdown",
   "metadata": {},
   "source": [
    "**numpy.ascontiguousarray** returns a contiguous array in memory (C order)"
   ]
  },
  {
   "cell_type": "code",
   "execution_count": 6,
   "metadata": {
    "collapsed": false
   },
   "outputs": [],
   "source": [
    "!python _convolution.py"
   ]
  },
  {
   "cell_type": "code",
   "execution_count": 7,
   "metadata": {
    "collapsed": true
   },
   "outputs": [],
   "source": [
    "import _convolution"
   ]
  },
  {
   "cell_type": "code",
   "execution_count": 8,
   "metadata": {
    "collapsed": false
   },
   "outputs": [
    {
     "data": {
      "text/plain": [
       "array([2, 3, 4], dtype=uint32)"
      ]
     },
     "execution_count": 8,
     "metadata": {},
     "output_type": "execute_result"
    }
   ],
   "source": [
    "m = [1,2,3]\n",
    "m = _convolution.convolution(m)\n",
    "m"
   ]
  }
 ],
 "metadata": {
  "kernelspec": {
   "display_name": "Python 3",
   "language": "python",
   "name": "python3"
  },
  "language_info": {
   "codemirror_mode": {
    "name": "ipython",
    "version": 3
   },
   "file_extension": ".py",
   "mimetype": "text/x-python",
   "name": "python",
   "nbconvert_exporter": "python",
   "pygments_lexer": "ipython3",
   "version": "3.4.3"
  }
 },
 "nbformat": 4,
 "nbformat_minor": 0
}
