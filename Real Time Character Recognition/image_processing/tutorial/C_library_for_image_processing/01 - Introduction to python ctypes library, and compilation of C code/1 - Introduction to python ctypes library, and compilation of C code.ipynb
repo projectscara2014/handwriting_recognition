{
 "cells": [
  {
   "cell_type": "markdown",
   "metadata": {},
   "source": [
    "# setup"
   ]
  },
  {
   "cell_type": "code",
   "execution_count": 2,
   "metadata": {
    "collapsed": false
   },
   "outputs": [
    {
     "name": "stdout",
     "output_type": "stream",
     "text": [
      "Overwriting locate_file.py\n"
     ]
    }
   ],
   "source": [
    "%%file locate_file.py\n",
    "\n",
    "def locate_file() : \n",
    "    working_directory = ''\n",
    "    for element in __file__.split('/')[:-1] :\n",
    "        working_directory += element + '/'\n",
    "    return working_directory"
   ]
  },
  {
   "cell_type": "code",
   "execution_count": 3,
   "metadata": {
    "collapsed": true
   },
   "outputs": [],
   "source": [
    "import locate_file\n",
    "working_directory = locate_file.locate_file()\n",
    "\n",
    "import os\n",
    "os.chdir(working_directory)"
   ]
  },
  {
   "cell_type": "markdown",
   "metadata": {},
   "source": [
    "# convolution.c"
   ]
  },
  {
   "cell_type": "code",
   "execution_count": 4,
   "metadata": {
    "collapsed": false
   },
   "outputs": [
    {
     "name": "stdout",
     "output_type": "stream",
     "text": [
      "Overwriting convolution.c\n"
     ]
    }
   ],
   "source": [
    "%%file convolution.c\n",
    "#import <math.h>\n",
    "\n",
    "void convolution(int *array,int *kernel,int array_height,int array_width,int kernel_height,int kernel_width) {\n",
    "    int i=0;\n",
    "}"
   ]
  },
  {
   "cell_type": "markdown",
   "metadata": {},
   "source": [
    "# compilation"
   ]
  },
  {
   "cell_type": "code",
   "execution_count": 5,
   "metadata": {
    "collapsed": false,
    "scrolled": true
   },
   "outputs": [
    {
     "name": "stdout",
     "output_type": "stream",
     "text": [
      "libconvolution.so: Mach-O 64-bit dynamically linked shared library x86_64\r\n"
     ]
    }
   ],
   "source": [
    "os.system('cd ' + working_directory)\n",
    "!clang -c convolution.c\n",
    "!clang -o libconvolution.so -shared convolution.o\n",
    "!file libconvolution.so"
   ]
  },
  {
   "cell_type": "markdown",
   "metadata": {},
   "source": [
    "# python wrapper module"
   ]
  },
  {
   "cell_type": "code",
   "execution_count": 6,
   "metadata": {
    "collapsed": false
   },
   "outputs": [
    {
     "name": "stdout",
     "output_type": "stream",
     "text": [
      "Overwriting _convolution.py\n"
     ]
    }
   ],
   "source": [
    "%%file _convolution.py\n",
    "import ctypes\n",
    "import numpy as np\n",
    "import locate_file\n",
    "working_directory = locate_file.locate_file()\n",
    "\n",
    "_convolution_ = ctypes.cdll.LoadLibrary(working_directory + 'libconvolution.so')\n",
    "\n",
    "class two_dimensional_matrix_() : \n",
    "    \n",
    "    def from_param(self,param) : \n",
    "        typename = type(param).__name__\n",
    "        if hasattr(self,'from_'+typename) : \n",
    "            return getattr(self,'from_'+typename)(param)\n",
    "        else : \n",
    "            raise TypeError('cant convert %s' %typename)\n",
    "    \n",
    "    #for a list\n",
    "    def from_list(self,param) : \n",
    "        \n",
    "        c_array = ((ctypes.c_int * len(param))*len(param[0]))()\n",
    "        for i in range(len(param)) : \n",
    "            for j in range(len(param[i])) :\n",
    "                c_array[i][j] = ctypes.c_int(param[i][j])\n",
    "        return c_array\n",
    "    \n",
    "    #for a tuple\n",
    "    def from_tuple(self,param) : \n",
    "        return self.from_list(param)\n",
    "    \n",
    "    #for a numpy array\n",
    "    def from_ndarray(self,param) : \n",
    "        \n",
    "        c_array = ((ctypes.c_int * len(param))*len(param[0]))()\n",
    "        for i in range(len(param)) : \n",
    "            for j in range(len(param[i])) : \n",
    "                c_array[i][j] = ctypes.c_int(param[i][j])\n",
    "        return c_array\n",
    "    \n",
    "two_dimensional_matrix = two_dimensional_matrix_()\n",
    "_convolution_.convolution.argtypes = [two_dimensional_matrix,two_dimensional_matrix,ctypes.c_int,ctypes.c_int,\\\n",
    "                                     ctypes.c_int,ctypes.c_int]\n",
    "_convolution_.convolution.restypes = ctypes.c_void_p"
   ]
  },
  {
   "cell_type": "markdown",
   "metadata": {
    "collapsed": false
   },
   "source": [
    "import numpy as np\n",
    "import _convolution\n",
    "\n",
    "a = np.array([[1,2],[3,4]])\n",
    "two_dimensional_matrix = _convolution.two_dimensional_matrix_()\n",
    "b = two_dimensional_matrix.from_param(a)\n",
    "b[1][1]"
   ]
  },
  {
   "cell_type": "code",
   "execution_count": 8,
   "metadata": {
    "collapsed": false
   },
   "outputs": [
    {
     "data": {
      "text/plain": [
       "2"
      ]
     },
     "execution_count": 8,
     "metadata": {},
     "output_type": "execute_result"
    }
   ],
   "source": [
    "import ctypes\n",
    "import numpy as np\n",
    "a = np.array([1,2,3,4])\n",
    "\n",
    "a.ctypes.data_as(ctypes.POINTER(ctypes.c_int))\n",
    "a[1]"
   ]
  }
 ],
 "metadata": {
  "kernelspec": {
   "display_name": "Python 3",
   "language": "python",
   "name": "python3"
  },
  "language_info": {
   "codemirror_mode": {
    "name": "ipython",
    "version": 3
   },
   "file_extension": ".py",
   "mimetype": "text/x-python",
   "name": "python",
   "nbconvert_exporter": "python",
   "pygments_lexer": "ipython3",
   "version": "3.4.3"
  }
 },
 "nbformat": 4,
 "nbformat_minor": 0
}
